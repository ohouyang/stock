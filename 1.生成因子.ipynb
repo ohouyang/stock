{
 "cells": [
  {
   "cell_type": "code",
   "execution_count": 7,
   "id": "b393155a-f770-4971-9cc3-aa2b3199364a",
   "metadata": {},
   "outputs": [],
   "source": [
    "import pandas as pd\n",
    "import numpy as np\n",
    "import _pickle as cPickle\n",
    "import gzip\n",
    "from collections import OrderedDict"
   ]
  },
  {
   "cell_type": "code",
   "execution_count": 8,
   "id": "898e7327-0342-49f3-acc0-43144df1c153",
   "metadata": {},
   "outputs": [
    {
     "data": {
      "text/plain": [
       "<module 'stats' from 'F:\\\\BigData\\\\my_code\\\\stats.py'>"
      ]
     },
     "execution_count": 8,
     "metadata": {},
     "output_type": "execute_result"
    }
   ],
   "source": [
    "from stock_helper import *\n",
    "from stats import *\n",
    "from imp import reload   \n",
    "import stock_helper\n",
    "import stats\n",
    "reload(stock_helper)\n",
    "reload(stats)"
   ]
  },
  {
   "cell_type": "code",
   "execution_count": 9,
   "id": "6b242711-51a1-4423-ac57-d4992c32a0af",
   "metadata": {},
   "outputs": [],
   "source": [
    "# 警告过滤\n",
    "import warnings\n",
    "warnings.filterwarnings('ignore')"
   ]
  },
  {
   "cell_type": "code",
   "execution_count": 10,
   "id": "6430610b-b433-415c-b8a8-bf903ef9ffc5",
   "metadata": {},
   "outputs": [
    {
     "data": {
      "text/plain": [
       "8"
      ]
     },
     "execution_count": 10,
     "metadata": {},
     "output_type": "execute_result"
    }
   ],
   "source": [
    "import os\n",
    "CORE_NUM = int(os.environ['NUMBER_OF_PROCESSORS'])\n",
    "CORE_NUM"
   ]
  },
  {
   "cell_type": "code",
   "execution_count": 11,
   "id": "6ebfe2bd-0b9e-41ed-b7da-806e1d8badf3",
   "metadata": {},
   "outputs": [],
   "source": [
    "# 函数主要用于实现并行计算，加速python算法\n",
    "import functools\n",
    "import dask\n",
    "from dask import compute, delayed\n",
    "def parLapply(CORE_NUM, iterable, func, *args, **kwargs): # 函数名（CPU核心数目，文件列表，函数，参数1，参数2...，对象1=参数a，对象2=参数b...）\n",
    "    with dask.config.set(scheduler='processes', num_workers=CORE_NUM):\n",
    "        f_par = functools.partial(func, *args, **kwargs)\n",
    "        result = compute([delayed(f_par)(item) for item in iterable])[0]\n",
    "    return result"
   ]
  },
  {
   "cell_type": "code",
   "execution_count": 12,
   "id": "bad0cdfd-ee81-4550-b208-3a39204e2f69",
   "metadata": {},
   "outputs": [],
   "source": [
    "# 加载数据函数load\n",
    "def load(path):\n",
    "    with gzip.open(path, 'rb', compresslevel=1) as file_object:\n",
    "        raw_data = file_object.read()\n",
    "    return cPickle.loads(raw_data)"
   ]
  },
  {
   "cell_type": "code",
   "execution_count": 13,
   "id": "eac2950c-481e-4d5a-b39b-32611ba76a3e",
   "metadata": {},
   "outputs": [],
   "source": [
    "# 保存数据函数save\n",
    "def save(data, path):\n",
    "    serialized = cPickle.dumps(data) # 将data对象序列化\n",
    "    with gzip.open(path, 'wb', compresslevel=1) as file_object: # 以写二进制的模式打开文件\n",
    "        file_object.write(serialized) # 将序列化的对象写入文件"
   ]
  },
  {
   "cell_type": "code",
   "execution_count": 14,
   "id": "f648908a-f7b5-46fb-a188-45b6ab73d3b8",
   "metadata": {},
   "outputs": [],
   "source": [
    "HEAD_PATH = 'F:/BigData/data'\n",
    "DATA_PATH = HEAD_PATH + '/stock pkl/'\n",
    "SAVE_PATH = 'F:/BigData/data'\n",
    "product_list = [\"600276\", \"600535\"] # 防止运行时间过长，只挑选两个股票品种"
   ]
  },
  {
   "cell_type": "code",
   "execution_count": 22,
   "id": "30133cd5-43b4-44fe-b6c1-da0d0d2726c9",
   "metadata": {},
   "outputs": [],
   "source": [
    "# 该函数用于除0引起的异常 当分母为0的时候zero_divide也是0\n",
    "def zero_divide(x, y): \n",
    "    with warnings.catch_warnings():\n",
    "        warnings.simplefilter(\"ignore\")\n",
    "        res = np.divide(x,y)\n",
    "    if hasattr(y, \"__len__\"):\n",
    "        res[y == 0] = 0 \n",
    "    elif y == 0:\n",
    "        res = 0\n",
    "        \n",
    "    return res"
   ]
  },
  {
   "cell_type": "code",
   "execution_count": 23,
   "id": "4301adf4-3f1e-4938-bbf9-c22ebe43ecf7",
   "metadata": {},
   "outputs": [],
   "source": [
    "# 计算指数移动平均\n",
    "def ewma(x, halflife, init=0, adjust=False):\n",
    "    init_s = pd.Series(data=init)\n",
    "    s = init_s.append(x)\n",
    "    if adjust:\n",
    "        xx = range(len(x))\n",
    "        lamb=1 - 0.5**(1 / halflife)\n",
    "        aa=1-np.power(1-lamb, xx)*(1-lamb)\n",
    "        bb=s.ewm(halflife=halflife, adjust=False).mean().iloc[1:]\n",
    "        return bb/aa\n",
    "    else:\n",
    "        return s.ewm(halflife=halflife, adjust=False).mean().iloc[1:]"
   ]
  },
  {
   "cell_type": "code",
   "execution_count": 24,
   "id": "91ff9f5e-3e1b-43a2-964a-177c104535ab",
   "metadata": {},
   "outputs": [],
   "source": [
    "# #计算移动平均\n",
    "def moving_average(a, n=3):\n",
    "    ret_sum = np.cumsum(a, dtype=float) # 将张量按照轴向相加\n",
    "    ret = a\n",
    "    ret[n:] = (ret_sum[n:] - ret_sum[:-n])/n\n",
    "    return ret"
   ]
  },
  {
   "cell_type": "code",
   "execution_count": 25,
   "id": "67e352ab-cf45-41af-804a-e37f2673d530",
   "metadata": {},
   "outputs": [],
   "source": [
    "# 该函数的作用是在dataframe中增加了wpr这一列\n",
    "def addWpr(date, product):\n",
    "    data = load(DATA_PATH+\"/\"+product+\"/\"+date) # 将传入路径下的文件反序列化放到data对象中\n",
    "    data[\"wpr\"] = (data[\"bid1\"]*data[\"ask1.qty\"]+data[\"ask1\"]*data[\"bid1.qty\"])/(data[\"bid1.qty\"]+data[\"ask1.qty\"])\n",
    "    outlier = (data[\"bid1\"]<1e-6) | (data[\"ask1\"]<1e-6) | (np.isnan(data[\"wpr\"])) # numpy中 | 的意思就是 或 ，& 的意思就是 且\n",
    "    data[\"wpr\"][outlier] = data[\"price\"][outlier]\n",
    "    data[\"next.bid\"] = data[\"bid1\"].shift(-1)\n",
    "    data[\"next.ask\"] = data[\"ask1\"].shift(-1)\n",
    "    data[\"wpr\"] = data[\"wpr\"]*data[\"adjust\"]\n",
    "    data[\"wpr.ret\"] = data[\"wpr\"]-data[\"wpr\"].shift(1)\n",
    "    data[\"wpr.ret\"][0] = 0\n",
    "    data[\"ret\"] = np.log(data[\"wpr\"]) - np.log(data[\"wpr\"]).shift(1)\n",
    "    data[\"ret\"][0] = 0\n",
    "    save(data, DATA_PATH+\"/\"+product+\"/\"+date) # 数据处理之后，再将对象序列化到文件中"
   ]
  },
  {
   "cell_type": "code",
   "execution_count": 26,
   "id": "d7d26908-32a9-4682-b353-f31acef42d8e",
   "metadata": {},
   "outputs": [
    {
     "data": {
      "text/plain": [
       "['2016.pkl', '2017.pkl', '2018.pkl', '2019.pkl', '2020.pkl']"
      ]
     },
     "execution_count": 26,
     "metadata": {},
     "output_type": "execute_result"
    }
   ],
   "source": [
    "#lambda表达式\n",
    "product = product_list[0]\n",
    "all_dates = list(map(lambda x: x,os.listdir(DATA_PATH + product)))\n",
    "all_dates"
   ]
  },
  {
   "cell_type": "code",
   "execution_count": 27,
   "id": "bdd1bad3-6b02-4d4f-83bf-9f6664738365",
   "metadata": {},
   "outputs": [
    {
     "name": "stdout",
     "output_type": "stream",
     "text": [
      "CPU times: total: 31.2 ms\n",
      "Wall time: 46.2 s\n"
     ]
    }
   ],
   "source": [
    "%%time\n",
    "for product in product_list:\n",
    "    result = parLapply(CORE_NUM, all_dates, addWpr, product=product)\n",
    "# 对指定路径下的文件都进行addWpr函数中的操作"
   ]
  },
  {
   "cell_type": "code",
   "execution_count": 28,
   "id": "0b98be7e-5d87-4d23-98a4-f3c08b2bbd9a",
   "metadata": {},
   "outputs": [],
   "source": [
    "def add_min_max(file, period_list): # period_list = [1024, 2048, 4096]\n",
    "    data = load(file)\n",
    "    data = data.reset_index(drop=True)\n",
    "    for period in period_list: # 这里一共添加了三个周期的最大最小值\n",
    "        data[\"min.\"+str(period)] = data[\"wpr\"].rolling(period).min() # numpy中的滑动窗口\n",
    "        data.loc[:period-1, (\"min.\"+str(period))] = data[\"wpr\"][0] # 滑动窗口对第一个周期的数据无法赋值，所以让这些没有赋值的数据直接等于data[\"wpr\"][0]\n",
    "        \n",
    "        data[\"max.\"+str(period)] = data[\"wpr\"].rolling(period).max() # 这里处理逻辑和上面一样\n",
    "        data.loc[:period-1, (\"max.\"+str(period))] = data[\"wpr\"][0]\n",
    "    save(data, file) # 最后保存好添加完最大值和最小值的数据文件"
   ]
  },
  {
   "cell_type": "code",
   "execution_count": 29,
   "id": "22076e64-f218-46f2-8eb5-5c86512564be",
   "metadata": {},
   "outputs": [
    {
     "name": "stdout",
     "output_type": "stream",
     "text": [
      "CPU times: total: 0 ns\n",
      "Wall time: 48.4 s\n"
     ]
    }
   ],
   "source": [
    "%%time\n",
    "for product in product_list:\n",
    "    file_list = list(map(lambda x: DATA_PATH+product+\"/\"+x, all_dates))\n",
    "    parLapply(CORE_NUM, file_list, add_min_max, period_list=[1024, 2048, 4096])"
   ]
  },
  {
   "cell_type": "markdown",
   "id": "3d964b86-4f26-4dda-8fa1-b4221859a94e",
   "metadata": {},
   "source": [
    "## 以下操作是为了在数据中加入good这个column\n",
    "- 由于很多代码错误沿用了期货量化的代码，各段代码中有较高的耦合性，导致后面代码用到good之后会频繁报错。\n",
    "- good的含义，如果是最后一天的数据或者第一天的数据，good值为false，否则值为true。\n",
    "- 事先加入good是为防止后面代码报错，加入good对后面代码的运行结果并无影响。"
   ]
  },
  {
   "cell_type": "code",
   "execution_count": 30,
   "id": "a68cfbe9-d488-410f-8c1d-60844f0a2cf2",
   "metadata": {
    "tags": []
   },
   "outputs": [
    {
     "data": {
      "text/html": [
       "<div>\n",
       "<style scoped>\n",
       "    .dataframe tbody tr th:only-of-type {\n",
       "        vertical-align: middle;\n",
       "    }\n",
       "\n",
       "    .dataframe tbody tr th {\n",
       "        vertical-align: top;\n",
       "    }\n",
       "\n",
       "    .dataframe thead th {\n",
       "        text-align: right;\n",
       "    }\n",
       "</style>\n",
       "<table border=\"1\" class=\"dataframe\">\n",
       "  <thead>\n",
       "    <tr style=\"text-align: right;\">\n",
       "      <th></th>\n",
       "      <th>date.time</th>\n",
       "      <th>price</th>\n",
       "      <th>traded.num</th>\n",
       "      <th>turnover</th>\n",
       "      <th>qty</th>\n",
       "      <th>bid1</th>\n",
       "      <th>bid2</th>\n",
       "      <th>bid3</th>\n",
       "      <th>bid4</th>\n",
       "      <th>bid5</th>\n",
       "      <th>...</th>\n",
       "      <th>wpr.ret</th>\n",
       "      <th>ret</th>\n",
       "      <th>next.bid</th>\n",
       "      <th>next.ask</th>\n",
       "      <th>min.1024</th>\n",
       "      <th>max.1024</th>\n",
       "      <th>min.2048</th>\n",
       "      <th>max.2048</th>\n",
       "      <th>min.4096</th>\n",
       "      <th>max.4096</th>\n",
       "    </tr>\n",
       "  </thead>\n",
       "  <tbody>\n",
       "    <tr>\n",
       "      <th>0</th>\n",
       "      <td>2016-01-04 09:25:00</td>\n",
       "      <td>72.69</td>\n",
       "      <td>27</td>\n",
       "      <td>676017.0</td>\n",
       "      <td>93</td>\n",
       "      <td>72.69</td>\n",
       "      <td>72.68</td>\n",
       "      <td>72.66</td>\n",
       "      <td>72.65</td>\n",
       "      <td>72.63</td>\n",
       "      <td>...</td>\n",
       "      <td>0.000000</td>\n",
       "      <td>0.000000</td>\n",
       "      <td>72.72</td>\n",
       "      <td>72.96</td>\n",
       "      <td>72.699951</td>\n",
       "      <td>72.699951</td>\n",
       "      <td>72.699951</td>\n",
       "      <td>72.699951</td>\n",
       "      <td>72.699951</td>\n",
       "      <td>72.699951</td>\n",
       "    </tr>\n",
       "    <tr>\n",
       "      <th>1</th>\n",
       "      <td>2016-01-04 09:30:01</td>\n",
       "      <td>72.70</td>\n",
       "      <td>7</td>\n",
       "      <td>109106.0</td>\n",
       "      <td>15</td>\n",
       "      <td>72.72</td>\n",
       "      <td>72.71</td>\n",
       "      <td>72.70</td>\n",
       "      <td>72.69</td>\n",
       "      <td>72.68</td>\n",
       "      <td>...</td>\n",
       "      <td>0.027841</td>\n",
       "      <td>0.000383</td>\n",
       "      <td>72.90</td>\n",
       "      <td>72.96</td>\n",
       "      <td>72.699951</td>\n",
       "      <td>72.699951</td>\n",
       "      <td>72.699951</td>\n",
       "      <td>72.699951</td>\n",
       "      <td>72.699951</td>\n",
       "      <td>72.699951</td>\n",
       "    </tr>\n",
       "    <tr>\n",
       "      <th>2</th>\n",
       "      <td>2016-01-04 09:30:05</td>\n",
       "      <td>72.90</td>\n",
       "      <td>1</td>\n",
       "      <td>14580.0</td>\n",
       "      <td>2</td>\n",
       "      <td>72.90</td>\n",
       "      <td>72.73</td>\n",
       "      <td>72.72</td>\n",
       "      <td>72.71</td>\n",
       "      <td>72.70</td>\n",
       "      <td>...</td>\n",
       "      <td>0.173392</td>\n",
       "      <td>0.002381</td>\n",
       "      <td>72.90</td>\n",
       "      <td>72.95</td>\n",
       "      <td>72.699951</td>\n",
       "      <td>72.699951</td>\n",
       "      <td>72.699951</td>\n",
       "      <td>72.699951</td>\n",
       "      <td>72.699951</td>\n",
       "      <td>72.699951</td>\n",
       "    </tr>\n",
       "    <tr>\n",
       "      <th>3</th>\n",
       "      <td>2016-01-04 09:30:09</td>\n",
       "      <td>72.96</td>\n",
       "      <td>1</td>\n",
       "      <td>14592.0</td>\n",
       "      <td>2</td>\n",
       "      <td>72.90</td>\n",
       "      <td>72.73</td>\n",
       "      <td>72.72</td>\n",
       "      <td>72.71</td>\n",
       "      <td>72.70</td>\n",
       "      <td>...</td>\n",
       "      <td>0.002566</td>\n",
       "      <td>0.000035</td>\n",
       "      <td>72.69</td>\n",
       "      <td>72.95</td>\n",
       "      <td>72.699951</td>\n",
       "      <td>72.699951</td>\n",
       "      <td>72.699951</td>\n",
       "      <td>72.699951</td>\n",
       "      <td>72.699951</td>\n",
       "      <td>72.699951</td>\n",
       "    </tr>\n",
       "    <tr>\n",
       "      <th>4</th>\n",
       "      <td>2016-01-04 09:30:12</td>\n",
       "      <td>72.69</td>\n",
       "      <td>37</td>\n",
       "      <td>1046946.0</td>\n",
       "      <td>144</td>\n",
       "      <td>72.69</td>\n",
       "      <td>72.68</td>\n",
       "      <td>72.66</td>\n",
       "      <td>72.65</td>\n",
       "      <td>72.63</td>\n",
       "      <td>...</td>\n",
       "      <td>-0.001850</td>\n",
       "      <td>-0.000025</td>\n",
       "      <td>72.69</td>\n",
       "      <td>72.95</td>\n",
       "      <td>72.699951</td>\n",
       "      <td>72.699951</td>\n",
       "      <td>72.699951</td>\n",
       "      <td>72.699951</td>\n",
       "      <td>72.699951</td>\n",
       "      <td>72.699951</td>\n",
       "    </tr>\n",
       "    <tr>\n",
       "      <th>...</th>\n",
       "      <td>...</td>\n",
       "      <td>...</td>\n",
       "      <td>...</td>\n",
       "      <td>...</td>\n",
       "      <td>...</td>\n",
       "      <td>...</td>\n",
       "      <td>...</td>\n",
       "      <td>...</td>\n",
       "      <td>...</td>\n",
       "      <td>...</td>\n",
       "      <td>...</td>\n",
       "      <td>...</td>\n",
       "      <td>...</td>\n",
       "      <td>...</td>\n",
       "      <td>...</td>\n",
       "      <td>...</td>\n",
       "      <td>...</td>\n",
       "      <td>...</td>\n",
       "      <td>...</td>\n",
       "      <td>...</td>\n",
       "      <td>...</td>\n",
       "    </tr>\n",
       "    <tr>\n",
       "      <th>328019</th>\n",
       "      <td>2016-12-30 14:54:51</td>\n",
       "      <td>76.15</td>\n",
       "      <td>1</td>\n",
       "      <td>22848.0</td>\n",
       "      <td>3</td>\n",
       "      <td>76.15</td>\n",
       "      <td>76.14</td>\n",
       "      <td>76.13</td>\n",
       "      <td>76.12</td>\n",
       "      <td>76.11</td>\n",
       "      <td>...</td>\n",
       "      <td>0.000000</td>\n",
       "      <td>0.000000</td>\n",
       "      <td>76.15</td>\n",
       "      <td>0.00</td>\n",
       "      <td>69.224898</td>\n",
       "      <td>76.150000</td>\n",
       "      <td>69.224898</td>\n",
       "      <td>76.150000</td>\n",
       "      <td>69.224898</td>\n",
       "      <td>76.150000</td>\n",
       "    </tr>\n",
       "    <tr>\n",
       "      <th>328020</th>\n",
       "      <td>2016-12-30 14:56:18</td>\n",
       "      <td>76.15</td>\n",
       "      <td>1</td>\n",
       "      <td>30448.0</td>\n",
       "      <td>4</td>\n",
       "      <td>76.15</td>\n",
       "      <td>76.14</td>\n",
       "      <td>76.13</td>\n",
       "      <td>76.12</td>\n",
       "      <td>76.11</td>\n",
       "      <td>...</td>\n",
       "      <td>0.000000</td>\n",
       "      <td>0.000000</td>\n",
       "      <td>76.15</td>\n",
       "      <td>0.00</td>\n",
       "      <td>69.224898</td>\n",
       "      <td>76.150000</td>\n",
       "      <td>69.224898</td>\n",
       "      <td>76.150000</td>\n",
       "      <td>69.224898</td>\n",
       "      <td>76.150000</td>\n",
       "    </tr>\n",
       "    <tr>\n",
       "      <th>328021</th>\n",
       "      <td>2016-12-30 14:56:36</td>\n",
       "      <td>76.15</td>\n",
       "      <td>1</td>\n",
       "      <td>15232.0</td>\n",
       "      <td>2</td>\n",
       "      <td>76.15</td>\n",
       "      <td>76.14</td>\n",
       "      <td>76.13</td>\n",
       "      <td>76.12</td>\n",
       "      <td>76.11</td>\n",
       "      <td>...</td>\n",
       "      <td>0.000000</td>\n",
       "      <td>0.000000</td>\n",
       "      <td>76.15</td>\n",
       "      <td>0.00</td>\n",
       "      <td>69.224898</td>\n",
       "      <td>76.150000</td>\n",
       "      <td>69.224898</td>\n",
       "      <td>76.150000</td>\n",
       "      <td>69.224898</td>\n",
       "      <td>76.150000</td>\n",
       "    </tr>\n",
       "    <tr>\n",
       "      <th>328022</th>\n",
       "      <td>2016-12-30 14:56:57</td>\n",
       "      <td>76.15</td>\n",
       "      <td>1</td>\n",
       "      <td>1637232.0</td>\n",
       "      <td>215</td>\n",
       "      <td>76.15</td>\n",
       "      <td>76.14</td>\n",
       "      <td>76.13</td>\n",
       "      <td>76.12</td>\n",
       "      <td>76.11</td>\n",
       "      <td>...</td>\n",
       "      <td>0.000000</td>\n",
       "      <td>0.000000</td>\n",
       "      <td>76.15</td>\n",
       "      <td>0.00</td>\n",
       "      <td>69.224898</td>\n",
       "      <td>76.150000</td>\n",
       "      <td>69.224898</td>\n",
       "      <td>76.150000</td>\n",
       "      <td>69.224898</td>\n",
       "      <td>76.150000</td>\n",
       "    </tr>\n",
       "    <tr>\n",
       "      <th>328023</th>\n",
       "      <td>2016-12-30 15:00:03</td>\n",
       "      <td>76.15</td>\n",
       "      <td>4</td>\n",
       "      <td>111408.0</td>\n",
       "      <td>15</td>\n",
       "      <td>76.15</td>\n",
       "      <td>76.14</td>\n",
       "      <td>76.13</td>\n",
       "      <td>76.12</td>\n",
       "      <td>76.11</td>\n",
       "      <td>...</td>\n",
       "      <td>0.000000</td>\n",
       "      <td>0.000000</td>\n",
       "      <td>NaN</td>\n",
       "      <td>NaN</td>\n",
       "      <td>69.224898</td>\n",
       "      <td>76.150000</td>\n",
       "      <td>69.224898</td>\n",
       "      <td>76.150000</td>\n",
       "      <td>69.224898</td>\n",
       "      <td>76.150000</td>\n",
       "    </tr>\n",
       "  </tbody>\n",
       "</table>\n",
       "<p>328024 rows × 37 columns</p>\n",
       "</div>"
      ],
      "text/plain": [
       "                  date.time  price  traded.num   turnover  qty   bid1   bid2  \\\n",
       "0       2016-01-04 09:25:00  72.69          27   676017.0   93  72.69  72.68   \n",
       "1       2016-01-04 09:30:01  72.70           7   109106.0   15  72.72  72.71   \n",
       "2       2016-01-04 09:30:05  72.90           1    14580.0    2  72.90  72.73   \n",
       "3       2016-01-04 09:30:09  72.96           1    14592.0    2  72.90  72.73   \n",
       "4       2016-01-04 09:30:12  72.69          37  1046946.0  144  72.69  72.68   \n",
       "...                     ...    ...         ...        ...  ...    ...    ...   \n",
       "328019  2016-12-30 14:54:51  76.15           1    22848.0    3  76.15  76.14   \n",
       "328020  2016-12-30 14:56:18  76.15           1    30448.0    4  76.15  76.14   \n",
       "328021  2016-12-30 14:56:36  76.15           1    15232.0    2  76.15  76.14   \n",
       "328022  2016-12-30 14:56:57  76.15           1  1637232.0  215  76.15  76.14   \n",
       "328023  2016-12-30 15:00:03  76.15           4   111408.0   15  76.15  76.14   \n",
       "\n",
       "         bid3   bid4   bid5  ...   wpr.ret       ret  next.bid  next.ask  \\\n",
       "0       72.66  72.65  72.63  ...  0.000000  0.000000     72.72     72.96   \n",
       "1       72.70  72.69  72.68  ...  0.027841  0.000383     72.90     72.96   \n",
       "2       72.72  72.71  72.70  ...  0.173392  0.002381     72.90     72.95   \n",
       "3       72.72  72.71  72.70  ...  0.002566  0.000035     72.69     72.95   \n",
       "4       72.66  72.65  72.63  ... -0.001850 -0.000025     72.69     72.95   \n",
       "...       ...    ...    ...  ...       ...       ...       ...       ...   \n",
       "328019  76.13  76.12  76.11  ...  0.000000  0.000000     76.15      0.00   \n",
       "328020  76.13  76.12  76.11  ...  0.000000  0.000000     76.15      0.00   \n",
       "328021  76.13  76.12  76.11  ...  0.000000  0.000000     76.15      0.00   \n",
       "328022  76.13  76.12  76.11  ...  0.000000  0.000000     76.15      0.00   \n",
       "328023  76.13  76.12  76.11  ...  0.000000  0.000000       NaN       NaN   \n",
       "\n",
       "         min.1024   max.1024   min.2048   max.2048   min.4096   max.4096  \n",
       "0       72.699951  72.699951  72.699951  72.699951  72.699951  72.699951  \n",
       "1       72.699951  72.699951  72.699951  72.699951  72.699951  72.699951  \n",
       "2       72.699951  72.699951  72.699951  72.699951  72.699951  72.699951  \n",
       "3       72.699951  72.699951  72.699951  72.699951  72.699951  72.699951  \n",
       "4       72.699951  72.699951  72.699951  72.699951  72.699951  72.699951  \n",
       "...           ...        ...        ...        ...        ...        ...  \n",
       "328019  69.224898  76.150000  69.224898  76.150000  69.224898  76.150000  \n",
       "328020  69.224898  76.150000  69.224898  76.150000  69.224898  76.150000  \n",
       "328021  69.224898  76.150000  69.224898  76.150000  69.224898  76.150000  \n",
       "328022  69.224898  76.150000  69.224898  76.150000  69.224898  76.150000  \n",
       "328023  69.224898  76.150000  69.224898  76.150000  69.224898  76.150000  \n",
       "\n",
       "[328024 rows x 37 columns]"
      ]
     },
     "execution_count": 30,
     "metadata": {},
     "output_type": "execute_result"
    }
   ],
   "source": [
    "# 查看原始数据\n",
    "data = load('F:/BigData/course/stock pkl/000538/2016.pkl')\n",
    "data"
   ]
  },
  {
   "cell_type": "code",
   "execution_count": 31,
   "id": "f2c1e26b-cdd2-4e7c-b632-3ccded8c3a20",
   "metadata": {
    "tags": []
   },
   "outputs": [
    {
     "data": {
      "text/plain": [
       "0        2016-01-04 09:25:00\n",
       "1        2016-01-04 09:30:01\n",
       "2        2016-01-04 09:30:05\n",
       "3        2016-01-04 09:30:09\n",
       "4        2016-01-04 09:30:12\n",
       "                 ...        \n",
       "328019   2016-12-30 14:54:51\n",
       "328020   2016-12-30 14:56:18\n",
       "328021   2016-12-30 14:56:36\n",
       "328022   2016-12-30 14:56:57\n",
       "328023   2016-12-30 15:00:03\n",
       "Name: date.time, Length: 328024, dtype: datetime64[ns]"
      ]
     },
     "execution_count": 31,
     "metadata": {},
     "output_type": "execute_result"
    }
   ],
   "source": [
    "data['date.time'] = pd.to_datetime(data['date.time'])\n",
    "data['date.time']"
   ]
  },
  {
   "cell_type": "code",
   "execution_count": 32,
   "id": "64670ffe-a562-4c34-8217-ac18f333f2a2",
   "metadata": {
    "tags": []
   },
   "outputs": [
    {
     "data": {
      "text/plain": [
       "0         False\n",
       "1         False\n",
       "2         False\n",
       "3         False\n",
       "4         False\n",
       "          ...  \n",
       "328019     True\n",
       "328020     True\n",
       "328021     True\n",
       "328022     True\n",
       "328023     True\n",
       "Length: 328024, dtype: bool"
      ]
     },
     "execution_count": 32,
     "metadata": {},
     "output_type": "execute_result"
    }
   ],
   "source": [
    "firstday = pd.to_datetime(data['date.time'][:1].values)\n",
    "firstday = str(firstday)\n",
    "firstday = firstday[16:26]+' 23:59:59'\n",
    "firstday = pd.to_datetime(firstday)\n",
    "data['firstday'] = firstday\n",
    "data['firstday'] = pd.to_datetime(data['firstday'])\n",
    "data['date.time'] > data['firstday']"
   ]
  },
  {
   "cell_type": "code",
   "execution_count": 33,
   "id": "114744f0-c1f3-4044-9db6-829badf01a23",
   "metadata": {
    "tags": []
   },
   "outputs": [
    {
     "data": {
      "text/plain": [
       "0          True\n",
       "1          True\n",
       "2          True\n",
       "3          True\n",
       "4          True\n",
       "          ...  \n",
       "328019    False\n",
       "328020    False\n",
       "328021    False\n",
       "328022    False\n",
       "328023    False\n",
       "Length: 328024, dtype: bool"
      ]
     },
     "execution_count": 33,
     "metadata": {},
     "output_type": "execute_result"
    }
   ],
   "source": [
    "lastday = pd.to_datetime(data['date.time'][-1:].values)\n",
    "lastday = str(lastday)\n",
    "lastday = lastday[16:26]\n",
    "data['lastday'] = lastday\n",
    "data['lastday'] = pd.to_datetime(data['lastday'])\n",
    "data['date.time'] < data['lastday']"
   ]
  },
  {
   "cell_type": "code",
   "execution_count": 34,
   "id": "1270a775-d17a-46a4-bc8a-bee830200103",
   "metadata": {
    "tags": []
   },
   "outputs": [
    {
     "data": {
      "text/plain": [
       "0         False\n",
       "1         False\n",
       "2         False\n",
       "3         False\n",
       "4         False\n",
       "          ...  \n",
       "328019    False\n",
       "328020    False\n",
       "328021    False\n",
       "328022    False\n",
       "328023    False\n",
       "Name: date.time, Length: 328024, dtype: bool"
      ]
     },
     "execution_count": 34,
     "metadata": {},
     "output_type": "execute_result"
    }
   ],
   "source": [
    "(data['date.time'] > firstday)&(data['date.time'] < lastday)"
   ]
  },
  {
   "cell_type": "code",
   "execution_count": 35,
   "id": "4dbdc85e-51d2-475b-843d-76e9aa17c6cd",
   "metadata": {
    "tags": []
   },
   "outputs": [
    {
     "data": {
      "text/plain": [
       "325641"
      ]
     },
     "execution_count": 35,
     "metadata": {},
     "output_type": "execute_result"
    }
   ],
   "source": [
    "sum((data['date.time'] > data['firstday'])&(data['date.time'] < data['lastday']))"
   ]
  },
  {
   "cell_type": "code",
   "execution_count": 36,
   "id": "edbc9e22-4a66-402b-96a9-856cb26d1aa0",
   "metadata": {
    "tags": []
   },
   "outputs": [],
   "source": [
    "data['good'] = (data['date.time'] > firstday)&(data['date.time'] < lastday)"
   ]
  },
  {
   "cell_type": "code",
   "execution_count": 37,
   "id": "04789988-51fe-45e1-901f-a7a7797a5da3",
   "metadata": {
    "tags": []
   },
   "outputs": [
    {
     "data": {
      "text/html": [
       "<div>\n",
       "<style scoped>\n",
       "    .dataframe tbody tr th:only-of-type {\n",
       "        vertical-align: middle;\n",
       "    }\n",
       "\n",
       "    .dataframe tbody tr th {\n",
       "        vertical-align: top;\n",
       "    }\n",
       "\n",
       "    .dataframe thead th {\n",
       "        text-align: right;\n",
       "    }\n",
       "</style>\n",
       "<table border=\"1\" class=\"dataframe\">\n",
       "  <thead>\n",
       "    <tr style=\"text-align: right;\">\n",
       "      <th></th>\n",
       "      <th>date.time</th>\n",
       "      <th>price</th>\n",
       "      <th>traded.num</th>\n",
       "      <th>turnover</th>\n",
       "      <th>qty</th>\n",
       "      <th>bid1</th>\n",
       "      <th>bid2</th>\n",
       "      <th>bid3</th>\n",
       "      <th>bid4</th>\n",
       "      <th>bid5</th>\n",
       "      <th>...</th>\n",
       "      <th>next.ask</th>\n",
       "      <th>min.1024</th>\n",
       "      <th>max.1024</th>\n",
       "      <th>min.2048</th>\n",
       "      <th>max.2048</th>\n",
       "      <th>min.4096</th>\n",
       "      <th>max.4096</th>\n",
       "      <th>firstday</th>\n",
       "      <th>lastday</th>\n",
       "      <th>good</th>\n",
       "    </tr>\n",
       "  </thead>\n",
       "  <tbody>\n",
       "    <tr>\n",
       "      <th>0</th>\n",
       "      <td>2016-01-04 09:25:00</td>\n",
       "      <td>72.69</td>\n",
       "      <td>27</td>\n",
       "      <td>676017.0</td>\n",
       "      <td>93</td>\n",
       "      <td>72.69</td>\n",
       "      <td>72.68</td>\n",
       "      <td>72.66</td>\n",
       "      <td>72.65</td>\n",
       "      <td>72.63</td>\n",
       "      <td>...</td>\n",
       "      <td>72.96</td>\n",
       "      <td>72.699951</td>\n",
       "      <td>72.699951</td>\n",
       "      <td>72.699951</td>\n",
       "      <td>72.699951</td>\n",
       "      <td>72.699951</td>\n",
       "      <td>72.699951</td>\n",
       "      <td>2016-01-04 23:59:59</td>\n",
       "      <td>2016-12-30</td>\n",
       "      <td>False</td>\n",
       "    </tr>\n",
       "    <tr>\n",
       "      <th>1</th>\n",
       "      <td>2016-01-04 09:30:01</td>\n",
       "      <td>72.70</td>\n",
       "      <td>7</td>\n",
       "      <td>109106.0</td>\n",
       "      <td>15</td>\n",
       "      <td>72.72</td>\n",
       "      <td>72.71</td>\n",
       "      <td>72.70</td>\n",
       "      <td>72.69</td>\n",
       "      <td>72.68</td>\n",
       "      <td>...</td>\n",
       "      <td>72.96</td>\n",
       "      <td>72.699951</td>\n",
       "      <td>72.699951</td>\n",
       "      <td>72.699951</td>\n",
       "      <td>72.699951</td>\n",
       "      <td>72.699951</td>\n",
       "      <td>72.699951</td>\n",
       "      <td>2016-01-04 23:59:59</td>\n",
       "      <td>2016-12-30</td>\n",
       "      <td>False</td>\n",
       "    </tr>\n",
       "    <tr>\n",
       "      <th>2</th>\n",
       "      <td>2016-01-04 09:30:05</td>\n",
       "      <td>72.90</td>\n",
       "      <td>1</td>\n",
       "      <td>14580.0</td>\n",
       "      <td>2</td>\n",
       "      <td>72.90</td>\n",
       "      <td>72.73</td>\n",
       "      <td>72.72</td>\n",
       "      <td>72.71</td>\n",
       "      <td>72.70</td>\n",
       "      <td>...</td>\n",
       "      <td>72.95</td>\n",
       "      <td>72.699951</td>\n",
       "      <td>72.699951</td>\n",
       "      <td>72.699951</td>\n",
       "      <td>72.699951</td>\n",
       "      <td>72.699951</td>\n",
       "      <td>72.699951</td>\n",
       "      <td>2016-01-04 23:59:59</td>\n",
       "      <td>2016-12-30</td>\n",
       "      <td>False</td>\n",
       "    </tr>\n",
       "    <tr>\n",
       "      <th>3</th>\n",
       "      <td>2016-01-04 09:30:09</td>\n",
       "      <td>72.96</td>\n",
       "      <td>1</td>\n",
       "      <td>14592.0</td>\n",
       "      <td>2</td>\n",
       "      <td>72.90</td>\n",
       "      <td>72.73</td>\n",
       "      <td>72.72</td>\n",
       "      <td>72.71</td>\n",
       "      <td>72.70</td>\n",
       "      <td>...</td>\n",
       "      <td>72.95</td>\n",
       "      <td>72.699951</td>\n",
       "      <td>72.699951</td>\n",
       "      <td>72.699951</td>\n",
       "      <td>72.699951</td>\n",
       "      <td>72.699951</td>\n",
       "      <td>72.699951</td>\n",
       "      <td>2016-01-04 23:59:59</td>\n",
       "      <td>2016-12-30</td>\n",
       "      <td>False</td>\n",
       "    </tr>\n",
       "    <tr>\n",
       "      <th>4</th>\n",
       "      <td>2016-01-04 09:30:12</td>\n",
       "      <td>72.69</td>\n",
       "      <td>37</td>\n",
       "      <td>1046946.0</td>\n",
       "      <td>144</td>\n",
       "      <td>72.69</td>\n",
       "      <td>72.68</td>\n",
       "      <td>72.66</td>\n",
       "      <td>72.65</td>\n",
       "      <td>72.63</td>\n",
       "      <td>...</td>\n",
       "      <td>72.95</td>\n",
       "      <td>72.699951</td>\n",
       "      <td>72.699951</td>\n",
       "      <td>72.699951</td>\n",
       "      <td>72.699951</td>\n",
       "      <td>72.699951</td>\n",
       "      <td>72.699951</td>\n",
       "      <td>2016-01-04 23:59:59</td>\n",
       "      <td>2016-12-30</td>\n",
       "      <td>False</td>\n",
       "    </tr>\n",
       "    <tr>\n",
       "      <th>...</th>\n",
       "      <td>...</td>\n",
       "      <td>...</td>\n",
       "      <td>...</td>\n",
       "      <td>...</td>\n",
       "      <td>...</td>\n",
       "      <td>...</td>\n",
       "      <td>...</td>\n",
       "      <td>...</td>\n",
       "      <td>...</td>\n",
       "      <td>...</td>\n",
       "      <td>...</td>\n",
       "      <td>...</td>\n",
       "      <td>...</td>\n",
       "      <td>...</td>\n",
       "      <td>...</td>\n",
       "      <td>...</td>\n",
       "      <td>...</td>\n",
       "      <td>...</td>\n",
       "      <td>...</td>\n",
       "      <td>...</td>\n",
       "      <td>...</td>\n",
       "    </tr>\n",
       "    <tr>\n",
       "      <th>328019</th>\n",
       "      <td>2016-12-30 14:54:51</td>\n",
       "      <td>76.15</td>\n",
       "      <td>1</td>\n",
       "      <td>22848.0</td>\n",
       "      <td>3</td>\n",
       "      <td>76.15</td>\n",
       "      <td>76.14</td>\n",
       "      <td>76.13</td>\n",
       "      <td>76.12</td>\n",
       "      <td>76.11</td>\n",
       "      <td>...</td>\n",
       "      <td>0.00</td>\n",
       "      <td>69.224898</td>\n",
       "      <td>76.150000</td>\n",
       "      <td>69.224898</td>\n",
       "      <td>76.150000</td>\n",
       "      <td>69.224898</td>\n",
       "      <td>76.150000</td>\n",
       "      <td>2016-01-04 23:59:59</td>\n",
       "      <td>2016-12-30</td>\n",
       "      <td>False</td>\n",
       "    </tr>\n",
       "    <tr>\n",
       "      <th>328020</th>\n",
       "      <td>2016-12-30 14:56:18</td>\n",
       "      <td>76.15</td>\n",
       "      <td>1</td>\n",
       "      <td>30448.0</td>\n",
       "      <td>4</td>\n",
       "      <td>76.15</td>\n",
       "      <td>76.14</td>\n",
       "      <td>76.13</td>\n",
       "      <td>76.12</td>\n",
       "      <td>76.11</td>\n",
       "      <td>...</td>\n",
       "      <td>0.00</td>\n",
       "      <td>69.224898</td>\n",
       "      <td>76.150000</td>\n",
       "      <td>69.224898</td>\n",
       "      <td>76.150000</td>\n",
       "      <td>69.224898</td>\n",
       "      <td>76.150000</td>\n",
       "      <td>2016-01-04 23:59:59</td>\n",
       "      <td>2016-12-30</td>\n",
       "      <td>False</td>\n",
       "    </tr>\n",
       "    <tr>\n",
       "      <th>328021</th>\n",
       "      <td>2016-12-30 14:56:36</td>\n",
       "      <td>76.15</td>\n",
       "      <td>1</td>\n",
       "      <td>15232.0</td>\n",
       "      <td>2</td>\n",
       "      <td>76.15</td>\n",
       "      <td>76.14</td>\n",
       "      <td>76.13</td>\n",
       "      <td>76.12</td>\n",
       "      <td>76.11</td>\n",
       "      <td>...</td>\n",
       "      <td>0.00</td>\n",
       "      <td>69.224898</td>\n",
       "      <td>76.150000</td>\n",
       "      <td>69.224898</td>\n",
       "      <td>76.150000</td>\n",
       "      <td>69.224898</td>\n",
       "      <td>76.150000</td>\n",
       "      <td>2016-01-04 23:59:59</td>\n",
       "      <td>2016-12-30</td>\n",
       "      <td>False</td>\n",
       "    </tr>\n",
       "    <tr>\n",
       "      <th>328022</th>\n",
       "      <td>2016-12-30 14:56:57</td>\n",
       "      <td>76.15</td>\n",
       "      <td>1</td>\n",
       "      <td>1637232.0</td>\n",
       "      <td>215</td>\n",
       "      <td>76.15</td>\n",
       "      <td>76.14</td>\n",
       "      <td>76.13</td>\n",
       "      <td>76.12</td>\n",
       "      <td>76.11</td>\n",
       "      <td>...</td>\n",
       "      <td>0.00</td>\n",
       "      <td>69.224898</td>\n",
       "      <td>76.150000</td>\n",
       "      <td>69.224898</td>\n",
       "      <td>76.150000</td>\n",
       "      <td>69.224898</td>\n",
       "      <td>76.150000</td>\n",
       "      <td>2016-01-04 23:59:59</td>\n",
       "      <td>2016-12-30</td>\n",
       "      <td>False</td>\n",
       "    </tr>\n",
       "    <tr>\n",
       "      <th>328023</th>\n",
       "      <td>2016-12-30 15:00:03</td>\n",
       "      <td>76.15</td>\n",
       "      <td>4</td>\n",
       "      <td>111408.0</td>\n",
       "      <td>15</td>\n",
       "      <td>76.15</td>\n",
       "      <td>76.14</td>\n",
       "      <td>76.13</td>\n",
       "      <td>76.12</td>\n",
       "      <td>76.11</td>\n",
       "      <td>...</td>\n",
       "      <td>NaN</td>\n",
       "      <td>69.224898</td>\n",
       "      <td>76.150000</td>\n",
       "      <td>69.224898</td>\n",
       "      <td>76.150000</td>\n",
       "      <td>69.224898</td>\n",
       "      <td>76.150000</td>\n",
       "      <td>2016-01-04 23:59:59</td>\n",
       "      <td>2016-12-30</td>\n",
       "      <td>False</td>\n",
       "    </tr>\n",
       "  </tbody>\n",
       "</table>\n",
       "<p>328024 rows × 40 columns</p>\n",
       "</div>"
      ],
      "text/plain": [
       "                 date.time  price  traded.num   turnover  qty   bid1   bid2  \\\n",
       "0      2016-01-04 09:25:00  72.69          27   676017.0   93  72.69  72.68   \n",
       "1      2016-01-04 09:30:01  72.70           7   109106.0   15  72.72  72.71   \n",
       "2      2016-01-04 09:30:05  72.90           1    14580.0    2  72.90  72.73   \n",
       "3      2016-01-04 09:30:09  72.96           1    14592.0    2  72.90  72.73   \n",
       "4      2016-01-04 09:30:12  72.69          37  1046946.0  144  72.69  72.68   \n",
       "...                    ...    ...         ...        ...  ...    ...    ...   \n",
       "328019 2016-12-30 14:54:51  76.15           1    22848.0    3  76.15  76.14   \n",
       "328020 2016-12-30 14:56:18  76.15           1    30448.0    4  76.15  76.14   \n",
       "328021 2016-12-30 14:56:36  76.15           1    15232.0    2  76.15  76.14   \n",
       "328022 2016-12-30 14:56:57  76.15           1  1637232.0  215  76.15  76.14   \n",
       "328023 2016-12-30 15:00:03  76.15           4   111408.0   15  76.15  76.14   \n",
       "\n",
       "         bid3   bid4   bid5  ...  next.ask   min.1024   max.1024   min.2048  \\\n",
       "0       72.66  72.65  72.63  ...     72.96  72.699951  72.699951  72.699951   \n",
       "1       72.70  72.69  72.68  ...     72.96  72.699951  72.699951  72.699951   \n",
       "2       72.72  72.71  72.70  ...     72.95  72.699951  72.699951  72.699951   \n",
       "3       72.72  72.71  72.70  ...     72.95  72.699951  72.699951  72.699951   \n",
       "4       72.66  72.65  72.63  ...     72.95  72.699951  72.699951  72.699951   \n",
       "...       ...    ...    ...  ...       ...        ...        ...        ...   \n",
       "328019  76.13  76.12  76.11  ...      0.00  69.224898  76.150000  69.224898   \n",
       "328020  76.13  76.12  76.11  ...      0.00  69.224898  76.150000  69.224898   \n",
       "328021  76.13  76.12  76.11  ...      0.00  69.224898  76.150000  69.224898   \n",
       "328022  76.13  76.12  76.11  ...      0.00  69.224898  76.150000  69.224898   \n",
       "328023  76.13  76.12  76.11  ...       NaN  69.224898  76.150000  69.224898   \n",
       "\n",
       "         max.2048   min.4096   max.4096            firstday    lastday   good  \n",
       "0       72.699951  72.699951  72.699951 2016-01-04 23:59:59 2016-12-30  False  \n",
       "1       72.699951  72.699951  72.699951 2016-01-04 23:59:59 2016-12-30  False  \n",
       "2       72.699951  72.699951  72.699951 2016-01-04 23:59:59 2016-12-30  False  \n",
       "3       72.699951  72.699951  72.699951 2016-01-04 23:59:59 2016-12-30  False  \n",
       "4       72.699951  72.699951  72.699951 2016-01-04 23:59:59 2016-12-30  False  \n",
       "...           ...        ...        ...                 ...        ...    ...  \n",
       "328019  76.150000  69.224898  76.150000 2016-01-04 23:59:59 2016-12-30  False  \n",
       "328020  76.150000  69.224898  76.150000 2016-01-04 23:59:59 2016-12-30  False  \n",
       "328021  76.150000  69.224898  76.150000 2016-01-04 23:59:59 2016-12-30  False  \n",
       "328022  76.150000  69.224898  76.150000 2016-01-04 23:59:59 2016-12-30  False  \n",
       "328023  76.150000  69.224898  76.150000 2016-01-04 23:59:59 2016-12-30  False  \n",
       "\n",
       "[328024 rows x 40 columns]"
      ]
     },
     "execution_count": 37,
     "metadata": {},
     "output_type": "execute_result"
    }
   ],
   "source": [
    "data"
   ]
  },
  {
   "cell_type": "code",
   "execution_count": 38,
   "id": "d4c40e13-1c23-4199-bd0f-3edae11462c7",
   "metadata": {
    "tags": []
   },
   "outputs": [],
   "source": [
    "HEAD_PATH = 'F:/BigData/data'\n",
    "DATA_PATH = HEAD_PATH + '/stock pkl/'"
   ]
  },
  {
   "cell_type": "code",
   "execution_count": 39,
   "id": "f2d0c63a-df46-4643-9e32-735bfc623cbf",
   "metadata": {
    "tags": []
   },
   "outputs": [],
   "source": [
    "from datetime import datetime"
   ]
  },
  {
   "cell_type": "code",
   "execution_count": 40,
   "id": "6a143338-821d-48e4-903a-afe98ba5eb1b",
   "metadata": {
    "tags": []
   },
   "outputs": [],
   "source": [
    "# 每个文件加入good\n",
    "for product in product_list:\n",
    "    for date in all_dates:\n",
    "        data = load(DATA_PATH+product+'/'+date)\n",
    "        \n",
    "        firstday = pd.to_datetime(data['date.time'][:1].values)\n",
    "        firstday = str(firstday)\n",
    "        firstday = firstday[16:26]+' 23:59:59'\n",
    "        # firstday = datetime.strptime(firstday, '%Y-%m-%d %H:%M:%S')\n",
    "        data['firstday'] = firstday\n",
    "        data['firstday'] = pd.to_datetime(data['firstday'])\n",
    "        \n",
    "        lastday = pd.to_datetime(data['date.time'][-1:].values)\n",
    "        lastday = str(lastday)\n",
    "        lastday = lastday[16:26]+' 00:00:00' \n",
    "        # lastday = datetime.strptime(lastday, '%Y-%m-%d %H:%M:%S')\n",
    "        data['lastday'] = lastday\n",
    "        data['lastday'] = pd.to_datetime(data['lastday'])\n",
    "        \n",
    "        data['good'] = ((data['date.time'] > data['firstday'])&(data['date.time'] < data['lastday']))\n",
    "        save(data, DATA_PATH+product+'/'+date)"
   ]
  },
  {
   "cell_type": "code",
   "execution_count": 41,
   "id": "559577a7-07a5-40c9-872a-4f9b8b8b642f",
   "metadata": {
    "tags": []
   },
   "outputs": [],
   "source": [
    "def get_good(date, product, HEAD_PATH, SAVE_PATH):\n",
    "    data = load(HEAD_PATH+'/stock pkl/'+product+'/'+date)\n",
    "    good = data['good']\n",
    "    save(good, SAVE_PATH+'/good pkl/'+product+'/'+date)"
   ]
  },
  {
   "cell_type": "code",
   "execution_count": 42,
   "id": "cdb1cca6-3471-480f-a088-f50824e1303e",
   "metadata": {
    "tags": []
   },
   "outputs": [],
   "source": [
    "os.makedirs(SAVE_PATH+'/good pkl', exist_ok=True)\n",
    "for product in product_list:\n",
    "    os.makedirs(SAVE_PATH+'/good pkl/'+product, exist_ok=True)"
   ]
  },
  {
   "cell_type": "code",
   "execution_count": 43,
   "id": "e066f7e4-b00d-4c80-80ff-62e559759318",
   "metadata": {
    "tags": []
   },
   "outputs": [
    {
     "name": "stdout",
     "output_type": "stream",
     "text": [
      "CPU times: total: 0 ns\n",
      "Wall time: 15.4 s\n"
     ]
    }
   ],
   "source": [
    "%%time\n",
    "for product in product_list:\n",
    "    parLapply(CORE_NUM, all_dates, get_good, product=product, HEAD_PATH=HEAD_PATH, SAVE_PATH=SAVE_PATH)"
   ]
  },
  {
   "cell_type": "code",
   "execution_count": 44,
   "id": "abcb68a9-644c-45da-ae24-da4bbc056b30",
   "metadata": {},
   "outputs": [
    {
     "data": {
      "text/plain": [
       "Index(['date.time', 'price', 'traded.num', 'turnover', 'qty', 'bid1', 'bid2',\n",
       "       'bid3', 'bid4', 'bid5', 'ask1', 'ask2', 'ask3', 'ask4', 'ask5',\n",
       "       'bid1.qty', 'bid2.qty', 'bid3.qty', 'bid4.qty', 'bid5.qty', 'ask1.qty',\n",
       "       'ask2.qty', 'ask3.qty', 'ask4.qty', 'ask5.qty', 'adjust', 'wpr',\n",
       "       'wpr.ret', 'ret', 'next.bid', 'next.ask', 'min.1024', 'max.1024',\n",
       "       'min.2048', 'max.2048', 'min.4096', 'max.4096', 'firstday', 'lastday',\n",
       "       'good'],\n",
       "      dtype='object')"
      ]
     },
     "execution_count": 44,
     "metadata": {},
     "output_type": "execute_result"
    }
   ],
   "source": [
    "# 数据所有columns\n",
    "data.columns"
   ]
  },
  {
   "cell_type": "markdown",
   "id": "eaa6f1a7-8e13-4ef9-9fef-bd8dda18c2f7",
   "metadata": {},
   "source": [
    "各列数据的实际含义：\n",
    "- price：价格  \n",
    "- trade_num：总成交单数  \n",
    "- turnover：最新的成交额  \n",
    "- qty：最新的成交量  \n",
    "- bid：买一价  \n",
    "- ask：卖一价  \n",
    "- bid.qty：买一量  \n",
    "- ask.qty：卖一量  \n",
    "- ret：最新一笔行情的对数收益率  \n",
    "- wpr：挂单量加权平均价  \n",
    "- wpr.ret：wpr 的价格变化"
   ]
  },
  {
   "cell_type": "code",
   "execution_count": 45,
   "id": "d1e144b4-20df-4472-8570-0353efb6f0e3",
   "metadata": {},
   "outputs": [
    {
     "data": {
      "text/plain": [
       "pandas.core.frame.DataFrame"
      ]
     },
     "execution_count": 45,
     "metadata": {},
     "output_type": "execute_result"
    }
   ],
   "source": [
    "type(data)"
   ]
  },
  {
   "cell_type": "code",
   "execution_count": 46,
   "id": "72ec1151-d1e7-4347-bf25-ead47e990c4c",
   "metadata": {},
   "outputs": [],
   "source": [
    "# 生成文件目录\n",
    "for product in product_list:\n",
    "    os.makedirs(SAVE_PATH + \"/tmp pkl/\" + product, exist_ok=True)"
   ]
  },
  {
   "cell_type": "markdown",
   "id": "e0bc28c0-cd24-41a8-8e9a-ab586da50e03",
   "metadata": {},
   "source": [
    "## 生成因子 上述因子保存到原始文件中"
   ]
  },
  {
   "cell_type": "code",
   "execution_count": 1,
   "id": "e538debe-b8da-44d4-bd9f-bd50b3778c3a",
   "metadata": {},
   "outputs": [],
   "source": [
    "def create_signal_path(signal_list, product, HEAD_PATH):\n",
    "    keys = list(signal_list.params.keys())\n",
    "    for cartesian in itertools.product(*signal_list.params.values()):\n",
    "        signal_name = signal_list.factor_name\n",
    "        for i in range(len(cartesian)):\n",
    "            signal_name = signal_name.replace(keys[i], str(cartesian[i]))\n",
    "        \n",
    "        os.makedirs(HEAD_PATH+\"/tmp pkl/\"+product+\"/\"+signal_name, exist_ok=True)\n",
    "        print(HEAD_PATH+\"/tmp pkl/\"+product+\"/\"+signal_name)"
   ]
  },
  {
   "cell_type": "markdown",
   "id": "9a572ba2-3665-4bcb-8db0-bf38552901b2",
   "metadata": {},
   "source": [
    "# str.period"
   ]
  },
  {
   "cell_type": "code",
   "execution_count": 48,
   "id": "8828dc92-2af1-462b-822a-8f22392aa51a",
   "metadata": {},
   "outputs": [],
   "source": [
    "# 计算波动幅度\n",
    "def get_atr(file, product, period_list):\n",
    "    data = load(file)\n",
    "    for period in period_list:\n",
    "        S = (data[\"max.\"+str(period)]-data[\"min.\"+str(period)])/data[\"wpr\"] # 最大值减去最小值除以wpr就得到了波动幅度 但是计算得到的数据并没有和原始数据一起保存\n",
    "        save(S, SAVE_PATH+\"/tmp pkl/\"+product+\"/atr.\"+str(period)+\"/\" + file[-8:]) # 根据路径保存"
   ]
  },
  {
   "cell_type": "code",
   "execution_count": 49,
   "id": "11377c66-8b35-4677-b67a-f637eb91b954",
   "metadata": {},
   "outputs": [],
   "source": [
    "# 为波动率因子创建文件夹\n",
    "for product in product_list:\n",
    "    for period in [1024,2048,4096]:\n",
    "        os.makedirs(SAVE_PATH + \"/tmp pkl/\" + product + \"/atr.\" + str(period), exist_ok=True)"
   ]
  },
  {
   "cell_type": "code",
   "execution_count": 50,
   "id": "05886fef-c9ef-420e-81e9-7cad2c4ece31",
   "metadata": {},
   "outputs": [
    {
     "name": "stdout",
     "output_type": "stream",
     "text": [
      "CPU times: total: 0 ns\n",
      "Wall time: 21.8 s\n"
     ]
    }
   ],
   "source": [
    "%%time\n",
    "for product in product_list:\n",
    "    file_list = list(map(lambda x: DATA_PATH+product+\"/\"+x, os.listdir(DATA_PATH + product)))\n",
    "    parLapply(CORE_NUM, file_list, get_atr, product=product,period_list=np.power(2, range(10,13)))  # 传入函数发生变化"
   ]
  },
  {
   "cell_type": "markdown",
   "id": "575a0e35-8b7a-4cac-8185-1c4c8616c047",
   "metadata": {},
   "source": [
    "# nr.period"
   ]
  },
  {
   "cell_type": "code",
   "execution_count": 16,
   "id": "05d32f2b-83ba-40ed-a718-d22a11aceb10",
   "metadata": {},
   "outputs": [],
   "source": [
    "# 构造的第一个因子\n",
    "class foctor_nr_period(factor_template):\n",
    "    factor_name = \"nr.period\"\n",
    "    params = OrderedDict([\n",
    "        (\"period\", np.power(2, range(10,13))) # 有序字典：{\"period\": [1024 2048 4096]} \n",
    "    ])\n",
    "    def formula(self, data, period): # data[\"ret\"]的指数移动平均除以data[\"ret\"]绝对值的指数移动平均\n",
    "        return zero_divide(ewma(data[\"ret\"], period, adjust=True), ewma(data[\"ret\"].abs(), period, adjust=True)).values \n",
    "    # adjust=True 会对结果进行调整，防止开头数据异常 会增加一定的计算量"
   ]
  },
  {
   "cell_type": "code",
   "execution_count": 17,
   "id": "afc404f5-bdf2-4c0b-aa05-87112ebcf4f7",
   "metadata": {},
   "outputs": [],
   "source": [
    "# 实例化类\n",
    "x3 = foctor_nr_period()"
   ]
  },
  {
   "cell_type": "code",
   "execution_count": 18,
   "id": "ef9a8df5-84b8-47ba-a2af-d23a89631625",
   "metadata": {},
   "outputs": [
    {
     "name": "stdout",
     "output_type": "stream",
     "text": [
      "F:/BigData/data/tmp pkl/600276/nr.1024\n",
      "F:/BigData/data/tmp pkl/600276/nr.2048\n",
      "F:/BigData/data/tmp pkl/600276/nr.4096\n",
      "F:/BigData/data/tmp pkl/600535/nr.1024\n",
      "F:/BigData/data/tmp pkl/600535/nr.2048\n",
      "F:/BigData/data/tmp pkl/600535/nr.4096\n"
     ]
    }
   ],
   "source": [
    "# 该函数在stock_helper中 函数作用是创建名称为nr.xxxx文件夹 文件夹创建好会输出到下方\n",
    "for product in product_list:\n",
    "    create_signal_path(x3, product, SAVE_PATH); "
   ]
  },
  {
   "cell_type": "code",
   "execution_count": 5,
   "id": "92575c98-4c52-4066-b11a-0ae424928e8d",
   "metadata": {
    "collapsed": true,
    "jupyter": {
     "outputs_hidden": true
    }
   },
   "outputs": [
    {
     "name": "stdout",
     "output_type": "stream",
     "text": [
      "Looking in indexes: https://pypi.tuna.tsinghua.edu.cn/simple\n",
      "Collecting pandas==1.5.3\n",
      "  Downloading https://pypi.tuna.tsinghua.edu.cn/packages/c2/45/801ecd8434eef0b39cc02795ffae273fe3df3cfcb3f6fff215efbe92d93c/pandas-1.5.3-cp39-cp39-win_amd64.whl (10.9 MB)\n",
      "     ---------------------------------------- 0.0/10.9 MB ? eta -:--:--\n",
      "      --------------------------------------- 0.2/10.9 MB 4.6 MB/s eta 0:00:03\n",
      "      --------------------------------------- 0.2/10.9 MB 4.6 MB/s eta 0:00:03\n",
      "      --------------------------------------- 0.2/10.9 MB 4.6 MB/s eta 0:00:03\n",
      "     - -------------------------------------- 0.3/10.9 MB 1.6 MB/s eta 0:00:07\n",
      "     - -------------------------------------- 0.3/10.9 MB 1.6 MB/s eta 0:00:07\n",
      "     - -------------------------------------- 0.3/10.9 MB 1.2 MB/s eta 0:00:09\n",
      "     - -------------------------------------- 0.4/10.9 MB 1.5 MB/s eta 0:00:08\n",
      "     - -------------------------------------- 0.5/10.9 MB 1.3 MB/s eta 0:00:09\n",
      "     - -------------------------------------- 0.5/10.9 MB 1.2 MB/s eta 0:00:09\n",
      "     - -------------------------------------- 0.5/10.9 MB 1.2 MB/s eta 0:00:09\n",
      "     -- ------------------------------------- 0.7/10.9 MB 1.5 MB/s eta 0:00:07\n",
      "     -- ------------------------------------- 0.8/10.9 MB 1.4 MB/s eta 0:00:08\n",
      "     --- ------------------------------------ 1.0/10.9 MB 1.5 MB/s eta 0:00:07\n",
      "     --- ------------------------------------ 1.1/10.9 MB 1.6 MB/s eta 0:00:07\n",
      "     ---- ----------------------------------- 1.1/10.9 MB 1.5 MB/s eta 0:00:07\n",
      "     ---- ----------------------------------- 1.1/10.9 MB 1.5 MB/s eta 0:00:07\n",
      "     ---- ----------------------------------- 1.2/10.9 MB 1.5 MB/s eta 0:00:07\n",
      "     ----- ---------------------------------- 1.4/10.9 MB 1.6 MB/s eta 0:00:06\n",
      "     ----- ---------------------------------- 1.5/10.9 MB 1.6 MB/s eta 0:00:06\n",
      "     ----- ---------------------------------- 1.5/10.9 MB 1.6 MB/s eta 0:00:06\n",
      "     ------ --------------------------------- 1.6/10.9 MB 1.6 MB/s eta 0:00:06\n",
      "     ------ --------------------------------- 1.6/10.9 MB 1.6 MB/s eta 0:00:06\n",
      "     ------ --------------------------------- 1.8/10.9 MB 1.7 MB/s eta 0:00:06\n",
      "     ------- -------------------------------- 1.9/10.9 MB 1.7 MB/s eta 0:00:06\n",
      "     ------- -------------------------------- 2.0/10.9 MB 1.6 MB/s eta 0:00:06\n",
      "     ------- -------------------------------- 2.0/10.9 MB 1.6 MB/s eta 0:00:06\n",
      "     ------- -------------------------------- 2.0/10.9 MB 1.6 MB/s eta 0:00:06\n",
      "     ------- -------------------------------- 2.0/10.9 MB 1.6 MB/s eta 0:00:06\n",
      "     -------- ------------------------------- 2.2/10.9 MB 1.6 MB/s eta 0:00:06\n",
      "     -------- ------------------------------- 2.3/10.9 MB 1.6 MB/s eta 0:00:06\n",
      "     -------- ------------------------------- 2.3/10.9 MB 1.6 MB/s eta 0:00:06\n",
      "     -------- ------------------------------- 2.4/10.9 MB 1.5 MB/s eta 0:00:06\n",
      "     --------- ------------------------------ 2.5/10.9 MB 1.6 MB/s eta 0:00:06\n",
      "     --------- ------------------------------ 2.6/10.9 MB 1.6 MB/s eta 0:00:06\n",
      "     --------- ------------------------------ 2.6/10.9 MB 1.6 MB/s eta 0:00:06\n",
      "     --------- ------------------------------ 2.7/10.9 MB 1.6 MB/s eta 0:00:06\n",
      "     ---------- ----------------------------- 2.7/10.9 MB 1.6 MB/s eta 0:00:06\n",
      "     ---------- ----------------------------- 2.7/10.9 MB 1.6 MB/s eta 0:00:06\n",
      "     ---------- ----------------------------- 2.7/10.9 MB 1.5 MB/s eta 0:00:06\n",
      "     ----------- ---------------------------- 3.0/10.9 MB 1.6 MB/s eta 0:00:06\n",
      "     ----------- ---------------------------- 3.0/10.9 MB 1.6 MB/s eta 0:00:06\n",
      "     ----------- ---------------------------- 3.1/10.9 MB 1.5 MB/s eta 0:00:06\n",
      "     ----------- ---------------------------- 3.2/10.9 MB 1.6 MB/s eta 0:00:05\n",
      "     ----------- ---------------------------- 3.2/10.9 MB 1.6 MB/s eta 0:00:05\n",
      "     ------------ --------------------------- 3.3/10.9 MB 1.5 MB/s eta 0:00:05\n",
      "     ------------ --------------------------- 3.4/10.9 MB 1.5 MB/s eta 0:00:05\n",
      "     ------------ --------------------------- 3.5/10.9 MB 1.5 MB/s eta 0:00:05\n",
      "     ------------- -------------------------- 3.6/10.9 MB 1.6 MB/s eta 0:00:05\n",
      "     ------------- -------------------------- 3.6/10.9 MB 1.6 MB/s eta 0:00:05\n",
      "     ------------- -------------------------- 3.7/10.9 MB 1.5 MB/s eta 0:00:05\n",
      "     ------------- -------------------------- 3.8/10.9 MB 1.6 MB/s eta 0:00:05\n",
      "     -------------- ------------------------- 3.9/10.9 MB 1.6 MB/s eta 0:00:05\n",
      "     -------------- ------------------------- 3.9/10.9 MB 1.5 MB/s eta 0:00:05\n",
      "     -------------- ------------------------- 4.0/10.9 MB 1.6 MB/s eta 0:00:05\n",
      "     --------------- ------------------------ 4.1/10.9 MB 1.6 MB/s eta 0:00:05\n",
      "     --------------- ------------------------ 4.1/10.9 MB 1.6 MB/s eta 0:00:05\n",
      "     --------------- ------------------------ 4.2/10.9 MB 1.5 MB/s eta 0:00:05\n",
      "     --------------- ------------------------ 4.4/10.9 MB 1.6 MB/s eta 0:00:05\n",
      "     ---------------- ----------------------- 4.4/10.9 MB 1.6 MB/s eta 0:00:05\n",
      "     ---------------- ----------------------- 4.4/10.9 MB 1.6 MB/s eta 0:00:05\n",
      "     ---------------- ----------------------- 4.5/10.9 MB 1.5 MB/s eta 0:00:05\n",
      "     ----------------- ---------------------- 4.6/10.9 MB 1.6 MB/s eta 0:00:05\n",
      "     ----------------- ---------------------- 4.6/10.9 MB 1.6 MB/s eta 0:00:05\n",
      "     ----------------- ---------------------- 4.8/10.9 MB 1.6 MB/s eta 0:00:04\n",
      "     ----------------- ---------------------- 4.8/10.9 MB 1.5 MB/s eta 0:00:04\n",
      "     ----------------- ---------------------- 4.8/10.9 MB 1.5 MB/s eta 0:00:04\n",
      "     ------------------ --------------------- 5.0/10.9 MB 1.6 MB/s eta 0:00:04\n",
      "     ------------------ --------------------- 5.1/10.9 MB 1.6 MB/s eta 0:00:04\n",
      "     ------------------ --------------------- 5.1/10.9 MB 1.6 MB/s eta 0:00:04\n",
      "     ------------------- -------------------- 5.2/10.9 MB 1.6 MB/s eta 0:00:04\n",
      "     ------------------- -------------------- 5.3/10.9 MB 1.6 MB/s eta 0:00:04\n",
      "     ------------------- -------------------- 5.4/10.9 MB 1.6 MB/s eta 0:00:04\n",
      "     ------------------- -------------------- 5.4/10.9 MB 1.6 MB/s eta 0:00:04\n",
      "     -------------------- ------------------- 5.6/10.9 MB 1.6 MB/s eta 0:00:04\n",
      "     -------------------- ------------------- 5.6/10.9 MB 1.6 MB/s eta 0:00:04\n",
      "     -------------------- ------------------- 5.6/10.9 MB 1.6 MB/s eta 0:00:04\n",
      "     -------------------- ------------------- 5.7/10.9 MB 1.5 MB/s eta 0:00:04\n",
      "     --------------------- ------------------ 5.8/10.9 MB 1.5 MB/s eta 0:00:04\n",
      "     --------------------- ------------------ 6.0/10.9 MB 1.6 MB/s eta 0:00:04\n",
      "     ---------------------- ----------------- 6.1/10.9 MB 1.6 MB/s eta 0:00:04\n",
      "     ---------------------- ----------------- 6.1/10.9 MB 1.6 MB/s eta 0:00:04\n",
      "     ---------------------- ----------------- 6.2/10.9 MB 1.6 MB/s eta 0:00:03\n",
      "     ---------------------- ----------------- 6.3/10.9 MB 1.6 MB/s eta 0:00:03\n",
      "     ----------------------- ---------------- 6.3/10.9 MB 1.6 MB/s eta 0:00:03\n",
      "     ----------------------- ---------------- 6.4/10.9 MB 1.6 MB/s eta 0:00:03\n",
      "     ----------------------- ---------------- 6.5/10.9 MB 1.6 MB/s eta 0:00:03\n",
      "     ------------------------ --------------- 6.6/10.9 MB 1.6 MB/s eta 0:00:03\n",
      "     ------------------------ --------------- 6.7/10.9 MB 1.6 MB/s eta 0:00:03\n",
      "     ------------------------ --------------- 6.8/10.9 MB 1.6 MB/s eta 0:00:03\n",
      "     ------------------------- -------------- 6.9/10.9 MB 1.6 MB/s eta 0:00:03\n",
      "     ------------------------- -------------- 7.0/10.9 MB 1.6 MB/s eta 0:00:03\n",
      "     ------------------------- -------------- 7.0/10.9 MB 1.6 MB/s eta 0:00:03\n",
      "     ------------------------- -------------- 7.0/10.9 MB 1.6 MB/s eta 0:00:03\n",
      "     ------------------------- -------------- 7.1/10.9 MB 1.6 MB/s eta 0:00:03\n",
      "     ------------------------- -------------- 7.1/10.9 MB 1.6 MB/s eta 0:00:03\n",
      "     -------------------------- ------------- 7.2/10.9 MB 1.6 MB/s eta 0:00:03\n",
      "     -------------------------- ------------- 7.3/10.9 MB 1.6 MB/s eta 0:00:03\n",
      "     -------------------------- ------------- 7.4/10.9 MB 1.6 MB/s eta 0:00:03\n",
      "     --------------------------- ------------ 7.4/10.9 MB 1.6 MB/s eta 0:00:03\n",
      "     --------------------------- ------------ 7.5/10.9 MB 1.6 MB/s eta 0:00:03\n",
      "     --------------------------- ------------ 7.6/10.9 MB 1.6 MB/s eta 0:00:03\n",
      "     ---------------------------- ----------- 7.7/10.9 MB 1.6 MB/s eta 0:00:03\n",
      "     ---------------------------- ----------- 7.8/10.9 MB 1.6 MB/s eta 0:00:02\n",
      "     ---------------------------- ----------- 7.9/10.9 MB 1.6 MB/s eta 0:00:02\n",
      "     ----------------------------- ---------- 7.9/10.9 MB 1.6 MB/s eta 0:00:02\n",
      "     ----------------------------- ---------- 7.9/10.9 MB 1.6 MB/s eta 0:00:02\n",
      "     ----------------------------- ---------- 8.1/10.9 MB 1.6 MB/s eta 0:00:02\n",
      "     ------------------------------ --------- 8.2/10.9 MB 1.6 MB/s eta 0:00:02\n",
      "     ------------------------------ --------- 8.2/10.9 MB 1.6 MB/s eta 0:00:02\n",
      "     ------------------------------ --------- 8.2/10.9 MB 1.6 MB/s eta 0:00:02\n",
      "     ------------------------------ --------- 8.2/10.9 MB 1.6 MB/s eta 0:00:02\n",
      "     ------------------------------ --------- 8.4/10.9 MB 1.6 MB/s eta 0:00:02\n",
      "     ------------------------------- -------- 8.6/10.9 MB 1.6 MB/s eta 0:00:02\n",
      "     ------------------------------- -------- 8.6/10.9 MB 1.6 MB/s eta 0:00:02\n",
      "     ------------------------------- -------- 8.7/10.9 MB 1.6 MB/s eta 0:00:02\n",
      "     -------------------------------- ------- 8.8/10.9 MB 1.6 MB/s eta 0:00:02\n",
      "     -------------------------------- ------- 8.8/10.9 MB 1.6 MB/s eta 0:00:02\n",
      "     -------------------------------- ------- 8.9/10.9 MB 1.6 MB/s eta 0:00:02\n",
      "     -------------------------------- ------- 9.0/10.9 MB 1.6 MB/s eta 0:00:02\n",
      "     --------------------------------- ------ 9.1/10.9 MB 1.6 MB/s eta 0:00:02\n",
      "     --------------------------------- ------ 9.2/10.9 MB 1.6 MB/s eta 0:00:02\n",
      "     --------------------------------- ------ 9.3/10.9 MB 1.6 MB/s eta 0:00:02\n",
      "     ---------------------------------- ----- 9.3/10.9 MB 1.6 MB/s eta 0:00:02\n",
      "     ---------------------------------- ----- 9.4/10.9 MB 1.6 MB/s eta 0:00:01\n",
      "     ---------------------------------- ----- 9.5/10.9 MB 1.6 MB/s eta 0:00:01\n",
      "     ---------------------------------- ----- 9.5/10.9 MB 1.6 MB/s eta 0:00:01\n",
      "     ---------------------------------- ----- 9.5/10.9 MB 1.6 MB/s eta 0:00:01\n",
      "     ----------------------------------- ---- 9.6/10.9 MB 1.6 MB/s eta 0:00:01\n",
      "     ----------------------------------- ---- 9.8/10.9 MB 1.6 MB/s eta 0:00:01\n",
      "     ----------------------------------- ---- 9.8/10.9 MB 1.6 MB/s eta 0:00:01\n",
      "     ------------------------------------ --- 9.9/10.9 MB 1.6 MB/s eta 0:00:01\n",
      "     ------------------------------------ --- 10.0/10.9 MB 1.6 MB/s eta 0:00:01\n",
      "     ------------------------------------ --- 10.1/10.9 MB 1.6 MB/s eta 0:00:01\n",
      "     ------------------------------------- -- 10.1/10.9 MB 1.6 MB/s eta 0:00:01\n",
      "     ------------------------------------- -- 10.2/10.9 MB 1.6 MB/s eta 0:00:01\n",
      "     ------------------------------------- -- 10.2/10.9 MB 1.6 MB/s eta 0:00:01\n",
      "     ------------------------------------- -- 10.2/10.9 MB 1.6 MB/s eta 0:00:01\n",
      "     ------------------------------------- -- 10.3/10.9 MB 1.5 MB/s eta 0:00:01\n",
      "     ------------------------------------- -- 10.4/10.9 MB 1.5 MB/s eta 0:00:01\n",
      "     -------------------------------------- - 10.5/10.9 MB 1.6 MB/s eta 0:00:01\n",
      "     -------------------------------------- - 10.5/10.9 MB 1.6 MB/s eta 0:00:01\n",
      "     -------------------------------------- - 10.5/10.9 MB 1.5 MB/s eta 0:00:01\n",
      "     -------------------------------------- - 10.5/10.9 MB 1.5 MB/s eta 0:00:01\n",
      "     ---------------------------------------  10.7/10.9 MB 1.6 MB/s eta 0:00:01\n",
      "     ---------------------------------------  10.8/10.9 MB 1.6 MB/s eta 0:00:01\n",
      "     ---------------------------------------  10.8/10.9 MB 1.6 MB/s eta 0:00:01\n",
      "     ---------------------------------------  10.9/10.9 MB 1.5 MB/s eta 0:00:01\n",
      "     ---------------------------------------  10.9/10.9 MB 1.5 MB/s eta 0:00:01\n",
      "     ---------------------------------------  10.9/10.9 MB 1.5 MB/s eta 0:00:01\n",
      "     ---------------------------------------- 10.9/10.9 MB 1.5 MB/s eta 0:00:00\n",
      "Requirement already satisfied: python-dateutil>=2.8.1 in d:\\anaconda3\\envs\\tensorflow-gpu\\lib\\site-packages (from pandas==1.5.3) (2.8.2)\n",
      "Requirement already satisfied: pytz>=2020.1 in d:\\anaconda3\\envs\\tensorflow-gpu\\lib\\site-packages (from pandas==1.5.3) (2024.1)\n",
      "Requirement already satisfied: numpy>=1.20.3 in d:\\anaconda3\\envs\\tensorflow-gpu\\lib\\site-packages (from pandas==1.5.3) (1.26.4)\n",
      "Requirement already satisfied: six>=1.5 in d:\\anaconda3\\envs\\tensorflow-gpu\\lib\\site-packages (from python-dateutil>=2.8.1->pandas==1.5.3) (1.16.0)\n",
      "Installing collected packages: pandas\n",
      "  Attempting uninstall: pandas\n",
      "    Found existing installation: pandas 2.2.1\n",
      "    Uninstalling pandas-2.2.1:\n",
      "      Successfully uninstalled pandas-2.2.1\n"
     ]
    },
    {
     "name": "stderr",
     "output_type": "stream",
     "text": [
      "WARNING: Ignoring invalid distribution -illow (d:\\anaconda3\\envs\\tensorflow-gpu\\lib\\site-packages)\n",
      "WARNING: Ignoring invalid distribution -illow (d:\\anaconda3\\envs\\tensorflow-gpu\\lib\\site-packages)\n",
      "ERROR: Could not install packages due to an OSError: [WinError 5] 拒绝访问。: 'D:\\\\Anaconda3\\\\envs\\\\tensorflow-gpu\\\\Lib\\\\site-packages\\\\~andas.libs\\\\msvcp140-ef6047a69b174ada5cb2eff1d2bc9a62.dll'\n",
      "Consider using the `--user` option or check the permissions.\n",
      "\n"
     ]
    }
   ],
   "source": [
    "!pip install pandas==1.5.3"
   ]
  },
  {
   "cell_type": "code",
   "execution_count": 19,
   "id": "d13cb71c-21b3-4022-9ed8-457d25abfd5e",
   "metadata": {},
   "outputs": [
    {
     "name": "stdout",
     "output_type": "stream",
     "text": [
      "CPU times: total: 0 ns\n",
      "Wall time: 30.4 s\n"
     ]
    }
   ],
   "source": [
    "%%time \n",
    "for product in product_list:\n",
    "    file_list = list(map(lambda x: DATA_PATH+product+\"/\"+x, os.listdir(DATA_PATH + product))) ## files of each day map和lambda的配合使用\n",
    "    parLapply(CORE_NUM, file_list, build_composite_signal,signal_list=x3, product=product, HEAD_PATH=SAVE_PATH, n=8) # 这里为n指定了值为8\n",
    "# file_list中的每一项是传入函数的第一个参数，传入函数名后面的参数全都是传入函数的参数，parLapply函数的作用是让CPU核心并行工作，提高效率。\n",
    "# 第二个参数一般是一个列表，是把列表中的每个元素分别传给函数的，并不是把整个列表传给函数\n",
    "# 生成第一个因子"
   ]
  },
  {
   "cell_type": "markdown",
   "id": "fb90286f-3005-41f0-9b95-f832befb199d",
   "metadata": {},
   "source": [
    "# dbook.period"
   ]
  },
  {
   "cell_type": "code",
   "execution_count": 55,
   "id": "e819fe70-5598-4dce-b792-82a19e087f9a",
   "metadata": {},
   "outputs": [],
   "source": [
    "# 这个因子和挂单量有关 这个因子利用了state.py中的因子模版\n",
    "class foctor_dbook_period(factor_template):\n",
    "    factor_name = \"dbook.period\" # 因子名称\n",
    "    \n",
    "    params = OrderedDict([\n",
    "        (\"period\", np.power(2, range(10,13))) # 三个周期 1024 2048 4096\n",
    "    ])\n",
    "    \n",
    "    def formula(self, data, period):\n",
    "        bid_qty = data[\"bid1.qty\"]+data[\"bid2.qty\"]+data[\"bid3.qty\"]+data[\"bid4.qty\"]+data[\"bid5.qty\"] # 5个列的加和\n",
    "        diff_bid_qty = bid_qty - bid_qty.shift() # shift将数据向下移动移动一位 具体来说就是第一个时间节点的数据减去第二个时间节点的数据,减出来的有正值有负值\n",
    "        diff_bid_qty[0] = 0 # 由于第一个数据被shift掉了，所以赋值为零 原来是nan\n",
    "        ask_qty = data[\"ask1.qty\"]+data[\"ask2.qty\"]+data[\"ask3.qty\"]+data[\"ask4.qty\"]+data[\"ask5.qty\"]\n",
    "        diff_ask_qty = ask_qty - ask_qty.shift()\n",
    "        diff_ask_qty[0] = 0 # 下面这段代码和上面的代码很类似\n",
    "        return ewma(np.sign(diff_bid_qty)-np.sign(diff_ask_qty), period, adjust=True).values \n",
    "    # np.sign抽取每个元素的符号1 -1 是负数返回-1 是正数返回1 是0就还返回0"
   ]
  },
  {
   "cell_type": "code",
   "execution_count": 56,
   "id": "a178e8cf-51e3-457d-a85a-238671103e4a",
   "metadata": {},
   "outputs": [],
   "source": [
    "x4 = foctor_dbook_period()"
   ]
  },
  {
   "cell_type": "code",
   "execution_count": 57,
   "id": "6fb49572-f7ff-4d51-bcb2-2f145b2c5970",
   "metadata": {},
   "outputs": [
    {
     "name": "stdout",
     "output_type": "stream",
     "text": [
      "F:/BigData/data/tmp pkl/600276/dbook.1024\n",
      "F:/BigData/data/tmp pkl/600276/dbook.2048\n",
      "F:/BigData/data/tmp pkl/600276/dbook.4096\n",
      "F:/BigData/data/tmp pkl/600535/dbook.1024\n",
      "F:/BigData/data/tmp pkl/600535/dbook.2048\n",
      "F:/BigData/data/tmp pkl/600535/dbook.4096\n"
     ]
    }
   ],
   "source": [
    "# 创建因子目录\n",
    "for product in product_list:\n",
    "    create_signal_path(x4, product, SAVE_PATH)"
   ]
  },
  {
   "cell_type": "code",
   "execution_count": 58,
   "id": "3859380d-2d3f-49e7-b703-961b5fc546c8",
   "metadata": {},
   "outputs": [
    {
     "ename": "AttributeError",
     "evalue": "'Series' object has no attribute 'append'\n\nTraceback\n---------\n  File \"D:\\Anaconda3\\envs\\tensorflow-gpu\\lib\\site-packages\\dask\\local.py\", line 225, in execute_task\n    result = _execute_task(task, data)\n  File \"D:\\Anaconda3\\envs\\tensorflow-gpu\\lib\\site-packages\\dask\\core.py\", line 127, in _execute_task\n    return func(*(_execute_task(a, cache) for a in args))\n  File \"F:\\BigData\\my_code\\stats.py\", line 137, in build_composite_signal\n    S = signal_list.formula(data, *cartesian)\n  File \"C:\\Users\\ASUS\\AppData\\Local\\Temp\\ipykernel_15648\\3001410274.py\", line 16, in formula\n  File \"C:\\Users\\ASUS\\AppData\\Local\\Temp\\ipykernel_15648\\2228110220.py\", line 4, in ewma\n  File \"D:\\Anaconda3\\envs\\tensorflow-gpu\\lib\\site-packages\\pandas\\core\\generic.py\", line 6296, in __getattr__\n    return object.__getattribute__(self, name)\n",
     "output_type": "error",
     "traceback": [
      "\u001b[1;31m---------------------------------------------------------------------------\u001b[0m",
      "\u001b[1;31mAttributeError\u001b[0m                            Traceback (most recent call last)",
      "File \u001b[1;32m<timed exec>:3\u001b[0m\n",
      "Cell \u001b[1;32mIn[18], line 8\u001b[0m, in \u001b[0;36mparLapply\u001b[1;34m(CORE_NUM, iterable, func, *args, **kwargs)\u001b[0m\n\u001b[0;32m      6\u001b[0m \u001b[38;5;28;01mwith\u001b[39;00m dask\u001b[38;5;241m.\u001b[39mconfig\u001b[38;5;241m.\u001b[39mset(scheduler\u001b[38;5;241m=\u001b[39m\u001b[38;5;124m'\u001b[39m\u001b[38;5;124mprocesses\u001b[39m\u001b[38;5;124m'\u001b[39m, num_workers\u001b[38;5;241m=\u001b[39mCORE_NUM):\n\u001b[0;32m      7\u001b[0m     f_par \u001b[38;5;241m=\u001b[39m functools\u001b[38;5;241m.\u001b[39mpartial(func, \u001b[38;5;241m*\u001b[39margs, \u001b[38;5;241m*\u001b[39m\u001b[38;5;241m*\u001b[39mkwargs)\n\u001b[1;32m----> 8\u001b[0m     result \u001b[38;5;241m=\u001b[39m \u001b[43mcompute\u001b[49m\u001b[43m(\u001b[49m\u001b[43m[\u001b[49m\u001b[43mdelayed\u001b[49m\u001b[43m(\u001b[49m\u001b[43mf_par\u001b[49m\u001b[43m)\u001b[49m\u001b[43m(\u001b[49m\u001b[43mitem\u001b[49m\u001b[43m)\u001b[49m\u001b[43m \u001b[49m\u001b[38;5;28;43;01mfor\u001b[39;49;00m\u001b[43m \u001b[49m\u001b[43mitem\u001b[49m\u001b[43m \u001b[49m\u001b[38;5;129;43;01min\u001b[39;49;00m\u001b[43m \u001b[49m\u001b[43miterable\u001b[49m\u001b[43m]\u001b[49m\u001b[43m)\u001b[49m[\u001b[38;5;241m0\u001b[39m]\n\u001b[0;32m      9\u001b[0m \u001b[38;5;28;01mreturn\u001b[39;00m result\n",
      "File \u001b[1;32mD:\\Anaconda3\\envs\\tensorflow-gpu\\lib\\site-packages\\dask\\base.py:661\u001b[0m, in \u001b[0;36mcompute\u001b[1;34m(traverse, optimize_graph, scheduler, get, *args, **kwargs)\u001b[0m\n\u001b[0;32m    658\u001b[0m     postcomputes\u001b[38;5;241m.\u001b[39mappend(x\u001b[38;5;241m.\u001b[39m__dask_postcompute__())\n\u001b[0;32m    660\u001b[0m \u001b[38;5;28;01mwith\u001b[39;00m shorten_traceback():\n\u001b[1;32m--> 661\u001b[0m     results \u001b[38;5;241m=\u001b[39m schedule(dsk, keys, \u001b[38;5;241m*\u001b[39m\u001b[38;5;241m*\u001b[39mkwargs)\n\u001b[0;32m    663\u001b[0m \u001b[38;5;28;01mreturn\u001b[39;00m repack([f(r, \u001b[38;5;241m*\u001b[39ma) \u001b[38;5;28;01mfor\u001b[39;00m r, (f, a) \u001b[38;5;129;01min\u001b[39;00m \u001b[38;5;28mzip\u001b[39m(results, postcomputes)])\n",
      "File \u001b[1;32mD:\\Anaconda3\\envs\\tensorflow-gpu\\lib\\site-packages\\dask\\multiprocessing.py:112\u001b[0m, in \u001b[0;36mreraise\u001b[1;34m(exc, tb)\u001b[0m\n\u001b[0;32m    110\u001b[0m \u001b[38;5;28;01mdef\u001b[39;00m \u001b[38;5;21mreraise\u001b[39m(exc, tb\u001b[38;5;241m=\u001b[39m\u001b[38;5;28;01mNone\u001b[39;00m):\n\u001b[0;32m    111\u001b[0m     exc \u001b[38;5;241m=\u001b[39m remote_exception(exc, tb)\n\u001b[1;32m--> 112\u001b[0m     \u001b[38;5;28;01mraise\u001b[39;00m exc\n",
      "\u001b[1;31mAttributeError\u001b[0m: 'Series' object has no attribute 'append'\n\nTraceback\n---------\n  File \"D:\\Anaconda3\\envs\\tensorflow-gpu\\lib\\site-packages\\dask\\local.py\", line 225, in execute_task\n    result = _execute_task(task, data)\n  File \"D:\\Anaconda3\\envs\\tensorflow-gpu\\lib\\site-packages\\dask\\core.py\", line 127, in _execute_task\n    return func(*(_execute_task(a, cache) for a in args))\n  File \"F:\\BigData\\my_code\\stats.py\", line 137, in build_composite_signal\n    S = signal_list.formula(data, *cartesian)\n  File \"C:\\Users\\ASUS\\AppData\\Local\\Temp\\ipykernel_15648\\3001410274.py\", line 16, in formula\n  File \"C:\\Users\\ASUS\\AppData\\Local\\Temp\\ipykernel_15648\\2228110220.py\", line 4, in ewma\n  File \"D:\\Anaconda3\\envs\\tensorflow-gpu\\lib\\site-packages\\pandas\\core\\generic.py\", line 6296, in __getattr__\n    return object.__getattribute__(self, name)\n"
     ]
    }
   ],
   "source": [
    "%%time\n",
    "for product in product_list:\n",
    "    file_list = list(map(lambda x: DATA_PATH+product+\"/\"+x, os.listdir(DATA_PATH + product)))\n",
    "    parLapply(CORE_NUM, file_list, build_composite_signal,signal_list=x4, product=product, HEAD_PATH=SAVE_PATH,n=8)\n",
    "# 生成因子"
   ]
  },
  {
   "cell_type": "markdown",
   "id": "8bfd15a4-272f-4969-be01-38d0c83877cf",
   "metadata": {},
   "source": [
    "# range.pos.period"
   ]
  },
  {
   "cell_type": "code",
   "execution_count": 59,
   "id": "97240b79-9b8d-4231-b7f4-93088123b540",
   "metadata": {},
   "outputs": [],
   "source": [
    "def get_range_pos(wpr, min_period, max_period, period):\n",
    "    return ewma(zero_divide(wpr-min_period, max_period-min_period), period, adjust=True) - 0.5"
   ]
  },
  {
   "cell_type": "code",
   "execution_count": 60,
   "id": "e8001f1c-4f5b-4ecc-b82b-c4c4d862005f",
   "metadata": {},
   "outputs": [],
   "source": [
    "class foctor_range_pos_period(factor_template):\n",
    "    factor_name = \"range.pos.period\"\n",
    "    \n",
    "    params = OrderedDict([\n",
    "        (\"period\", np.power(2, range(10,13)))\n",
    "    ])\n",
    "    \n",
    "    def formula(self, data, period):\n",
    "        return get_range_pos(data[\"wpr\"], data[\"min.\"+str(period)], data[\"max.\"+str(period)], period).values"
   ]
  },
  {
   "cell_type": "code",
   "execution_count": 61,
   "id": "2e997c8f-d441-49ef-9ac1-1b724024d3eb",
   "metadata": {},
   "outputs": [],
   "source": [
    "x5 = foctor_range_pos_period()"
   ]
  },
  {
   "cell_type": "code",
   "execution_count": 62,
   "id": "7e531526-152f-4933-8e89-bcd7d8bd243f",
   "metadata": {},
   "outputs": [
    {
     "name": "stdout",
     "output_type": "stream",
     "text": [
      "F:/BigData/data/tmp pkl/600276/range.pos.1024\n",
      "F:/BigData/data/tmp pkl/600276/range.pos.2048\n",
      "F:/BigData/data/tmp pkl/600276/range.pos.4096\n",
      "F:/BigData/data/tmp pkl/600535/range.pos.1024\n",
      "F:/BigData/data/tmp pkl/600535/range.pos.2048\n",
      "F:/BigData/data/tmp pkl/600535/range.pos.4096\n"
     ]
    }
   ],
   "source": [
    "for product in product_list:\n",
    "    create_signal_path(x5, product, SAVE_PATH)"
   ]
  },
  {
   "cell_type": "code",
   "execution_count": 63,
   "id": "d33151f1-ba77-490d-9b54-cfad34a3ff69",
   "metadata": {},
   "outputs": [
    {
     "ename": "AttributeError",
     "evalue": "'Series' object has no attribute 'append'\n\nTraceback\n---------\n  File \"D:\\Anaconda3\\envs\\tensorflow-gpu\\lib\\site-packages\\dask\\local.py\", line 225, in execute_task\n    result = _execute_task(task, data)\n  File \"D:\\Anaconda3\\envs\\tensorflow-gpu\\lib\\site-packages\\dask\\core.py\", line 127, in _execute_task\n    return func(*(_execute_task(a, cache) for a in args))\n  File \"F:\\BigData\\my_code\\stats.py\", line 137, in build_composite_signal\n    S = signal_list.formula(data, *cartesian)\n  File \"C:\\Users\\ASUS\\AppData\\Local\\Temp\\ipykernel_15648\\456807279.py\", line 9, in formula\n  File \"C:\\Users\\ASUS\\AppData\\Local\\Temp\\ipykernel_15648\\2460966742.py\", line 2, in get_range_pos\n  File \"C:\\Users\\ASUS\\AppData\\Local\\Temp\\ipykernel_15648\\2228110220.py\", line 4, in ewma\n  File \"D:\\Anaconda3\\envs\\tensorflow-gpu\\lib\\site-packages\\pandas\\core\\generic.py\", line 6296, in __getattr__\n    return object.__getattribute__(self, name)\n",
     "output_type": "error",
     "traceback": [
      "\u001b[1;31m---------------------------------------------------------------------------\u001b[0m",
      "\u001b[1;31mAttributeError\u001b[0m                            Traceback (most recent call last)",
      "File \u001b[1;32m<timed exec>:3\u001b[0m\n",
      "Cell \u001b[1;32mIn[18], line 8\u001b[0m, in \u001b[0;36mparLapply\u001b[1;34m(CORE_NUM, iterable, func, *args, **kwargs)\u001b[0m\n\u001b[0;32m      6\u001b[0m \u001b[38;5;28;01mwith\u001b[39;00m dask\u001b[38;5;241m.\u001b[39mconfig\u001b[38;5;241m.\u001b[39mset(scheduler\u001b[38;5;241m=\u001b[39m\u001b[38;5;124m'\u001b[39m\u001b[38;5;124mprocesses\u001b[39m\u001b[38;5;124m'\u001b[39m, num_workers\u001b[38;5;241m=\u001b[39mCORE_NUM):\n\u001b[0;32m      7\u001b[0m     f_par \u001b[38;5;241m=\u001b[39m functools\u001b[38;5;241m.\u001b[39mpartial(func, \u001b[38;5;241m*\u001b[39margs, \u001b[38;5;241m*\u001b[39m\u001b[38;5;241m*\u001b[39mkwargs)\n\u001b[1;32m----> 8\u001b[0m     result \u001b[38;5;241m=\u001b[39m \u001b[43mcompute\u001b[49m\u001b[43m(\u001b[49m\u001b[43m[\u001b[49m\u001b[43mdelayed\u001b[49m\u001b[43m(\u001b[49m\u001b[43mf_par\u001b[49m\u001b[43m)\u001b[49m\u001b[43m(\u001b[49m\u001b[43mitem\u001b[49m\u001b[43m)\u001b[49m\u001b[43m \u001b[49m\u001b[38;5;28;43;01mfor\u001b[39;49;00m\u001b[43m \u001b[49m\u001b[43mitem\u001b[49m\u001b[43m \u001b[49m\u001b[38;5;129;43;01min\u001b[39;49;00m\u001b[43m \u001b[49m\u001b[43miterable\u001b[49m\u001b[43m]\u001b[49m\u001b[43m)\u001b[49m[\u001b[38;5;241m0\u001b[39m]\n\u001b[0;32m      9\u001b[0m \u001b[38;5;28;01mreturn\u001b[39;00m result\n",
      "File \u001b[1;32mD:\\Anaconda3\\envs\\tensorflow-gpu\\lib\\site-packages\\dask\\base.py:661\u001b[0m, in \u001b[0;36mcompute\u001b[1;34m(traverse, optimize_graph, scheduler, get, *args, **kwargs)\u001b[0m\n\u001b[0;32m    658\u001b[0m     postcomputes\u001b[38;5;241m.\u001b[39mappend(x\u001b[38;5;241m.\u001b[39m__dask_postcompute__())\n\u001b[0;32m    660\u001b[0m \u001b[38;5;28;01mwith\u001b[39;00m shorten_traceback():\n\u001b[1;32m--> 661\u001b[0m     results \u001b[38;5;241m=\u001b[39m schedule(dsk, keys, \u001b[38;5;241m*\u001b[39m\u001b[38;5;241m*\u001b[39mkwargs)\n\u001b[0;32m    663\u001b[0m \u001b[38;5;28;01mreturn\u001b[39;00m repack([f(r, \u001b[38;5;241m*\u001b[39ma) \u001b[38;5;28;01mfor\u001b[39;00m r, (f, a) \u001b[38;5;129;01min\u001b[39;00m \u001b[38;5;28mzip\u001b[39m(results, postcomputes)])\n",
      "File \u001b[1;32mD:\\Anaconda3\\envs\\tensorflow-gpu\\lib\\site-packages\\dask\\multiprocessing.py:112\u001b[0m, in \u001b[0;36mreraise\u001b[1;34m(exc, tb)\u001b[0m\n\u001b[0;32m    110\u001b[0m \u001b[38;5;28;01mdef\u001b[39;00m \u001b[38;5;21mreraise\u001b[39m(exc, tb\u001b[38;5;241m=\u001b[39m\u001b[38;5;28;01mNone\u001b[39;00m):\n\u001b[0;32m    111\u001b[0m     exc \u001b[38;5;241m=\u001b[39m remote_exception(exc, tb)\n\u001b[1;32m--> 112\u001b[0m     \u001b[38;5;28;01mraise\u001b[39;00m exc\n",
      "\u001b[1;31mAttributeError\u001b[0m: 'Series' object has no attribute 'append'\n\nTraceback\n---------\n  File \"D:\\Anaconda3\\envs\\tensorflow-gpu\\lib\\site-packages\\dask\\local.py\", line 225, in execute_task\n    result = _execute_task(task, data)\n  File \"D:\\Anaconda3\\envs\\tensorflow-gpu\\lib\\site-packages\\dask\\core.py\", line 127, in _execute_task\n    return func(*(_execute_task(a, cache) for a in args))\n  File \"F:\\BigData\\my_code\\stats.py\", line 137, in build_composite_signal\n    S = signal_list.formula(data, *cartesian)\n  File \"C:\\Users\\ASUS\\AppData\\Local\\Temp\\ipykernel_15648\\456807279.py\", line 9, in formula\n  File \"C:\\Users\\ASUS\\AppData\\Local\\Temp\\ipykernel_15648\\2460966742.py\", line 2, in get_range_pos\n  File \"C:\\Users\\ASUS\\AppData\\Local\\Temp\\ipykernel_15648\\2228110220.py\", line 4, in ewma\n  File \"D:\\Anaconda3\\envs\\tensorflow-gpu\\lib\\site-packages\\pandas\\core\\generic.py\", line 6296, in __getattr__\n    return object.__getattribute__(self, name)\n"
     ]
    }
   ],
   "source": [
    "%%time\n",
    "for product in product_list:\n",
    "    file_list = list(map(lambda x: DATA_PATH+product+\"/\"+x, os.listdir(DATA_PATH + product)))\n",
    "    parLapply(CORE_NUM, file_list, build_composite_signal,signal_list=x5, product=product, HEAD_PATH=SAVE_PATH,n=8)"
   ]
  },
  {
   "cell_type": "markdown",
   "id": "29159584-f2cb-4b29-bd1f-70c3881714bc",
   "metadata": {},
   "source": [
    "# ma.diff.period"
   ]
  },
  {
   "cell_type": "code",
   "execution_count": 64,
   "id": "159b4793-bd0d-48af-ad3a-12e8d0be8b5a",
   "metadata": {},
   "outputs": [],
   "source": [
    "class foctor_ma_diff_period(factor_template):\n",
    "    factor_name = \"ma.dif.10.period\"\n",
    "    \n",
    "    params = OrderedDict([\n",
    "        (\"period\", np.power(2, range(10,13)))\n",
    "    ])\n",
    "    \n",
    "    def formula(self, data, period):\n",
    "        return zero_divide(ewma(data[\"wpr\"], round(period/10), adjust=True) - ewma(data[\"wpr\"], period, adjust=True), data[\"wpr\"]).values"
   ]
  },
  {
   "cell_type": "code",
   "execution_count": 65,
   "id": "f121845c-5eab-4e25-9ffb-ee5be2fc7748",
   "metadata": {},
   "outputs": [],
   "source": [
    "x6 = foctor_ma_diff_period()"
   ]
  },
  {
   "cell_type": "code",
   "execution_count": 66,
   "id": "9b731d7e-b277-41b4-be35-7114b78ee857",
   "metadata": {},
   "outputs": [
    {
     "name": "stdout",
     "output_type": "stream",
     "text": [
      "F:/BigData/data/tmp pkl/600276/ma.dif.10.1024\n",
      "F:/BigData/data/tmp pkl/600276/ma.dif.10.2048\n",
      "F:/BigData/data/tmp pkl/600276/ma.dif.10.4096\n",
      "F:/BigData/data/tmp pkl/600535/ma.dif.10.1024\n",
      "F:/BigData/data/tmp pkl/600535/ma.dif.10.2048\n",
      "F:/BigData/data/tmp pkl/600535/ma.dif.10.4096\n"
     ]
    }
   ],
   "source": [
    "for product in product_list:\n",
    "    create_signal_path(x6, product, SAVE_PATH)"
   ]
  },
  {
   "cell_type": "code",
   "execution_count": 67,
   "id": "1f47de41-0f97-4ead-ba9e-3a1e90dea0f1",
   "metadata": {},
   "outputs": [
    {
     "ename": "AttributeError",
     "evalue": "'Series' object has no attribute 'append'\n\nTraceback\n---------\n  File \"D:\\Anaconda3\\envs\\tensorflow-gpu\\lib\\site-packages\\dask\\local.py\", line 225, in execute_task\n    result = _execute_task(task, data)\n  File \"D:\\Anaconda3\\envs\\tensorflow-gpu\\lib\\site-packages\\dask\\core.py\", line 127, in _execute_task\n    return func(*(_execute_task(a, cache) for a in args))\n  File \"F:\\BigData\\my_code\\stats.py\", line 137, in build_composite_signal\n    S = signal_list.formula(data, *cartesian)\n  File \"C:\\Users\\ASUS\\AppData\\Local\\Temp\\ipykernel_15648\\2248539299.py\", line 9, in formula\n  File \"C:\\Users\\ASUS\\AppData\\Local\\Temp\\ipykernel_15648\\2228110220.py\", line 4, in ewma\n  File \"D:\\Anaconda3\\envs\\tensorflow-gpu\\lib\\site-packages\\pandas\\core\\generic.py\", line 6296, in __getattr__\n    return object.__getattribute__(self, name)\n",
     "output_type": "error",
     "traceback": [
      "\u001b[1;31m---------------------------------------------------------------------------\u001b[0m",
      "\u001b[1;31mAttributeError\u001b[0m                            Traceback (most recent call last)",
      "File \u001b[1;32m<timed exec>:3\u001b[0m\n",
      "Cell \u001b[1;32mIn[18], line 8\u001b[0m, in \u001b[0;36mparLapply\u001b[1;34m(CORE_NUM, iterable, func, *args, **kwargs)\u001b[0m\n\u001b[0;32m      6\u001b[0m \u001b[38;5;28;01mwith\u001b[39;00m dask\u001b[38;5;241m.\u001b[39mconfig\u001b[38;5;241m.\u001b[39mset(scheduler\u001b[38;5;241m=\u001b[39m\u001b[38;5;124m'\u001b[39m\u001b[38;5;124mprocesses\u001b[39m\u001b[38;5;124m'\u001b[39m, num_workers\u001b[38;5;241m=\u001b[39mCORE_NUM):\n\u001b[0;32m      7\u001b[0m     f_par \u001b[38;5;241m=\u001b[39m functools\u001b[38;5;241m.\u001b[39mpartial(func, \u001b[38;5;241m*\u001b[39margs, \u001b[38;5;241m*\u001b[39m\u001b[38;5;241m*\u001b[39mkwargs)\n\u001b[1;32m----> 8\u001b[0m     result \u001b[38;5;241m=\u001b[39m \u001b[43mcompute\u001b[49m\u001b[43m(\u001b[49m\u001b[43m[\u001b[49m\u001b[43mdelayed\u001b[49m\u001b[43m(\u001b[49m\u001b[43mf_par\u001b[49m\u001b[43m)\u001b[49m\u001b[43m(\u001b[49m\u001b[43mitem\u001b[49m\u001b[43m)\u001b[49m\u001b[43m \u001b[49m\u001b[38;5;28;43;01mfor\u001b[39;49;00m\u001b[43m \u001b[49m\u001b[43mitem\u001b[49m\u001b[43m \u001b[49m\u001b[38;5;129;43;01min\u001b[39;49;00m\u001b[43m \u001b[49m\u001b[43miterable\u001b[49m\u001b[43m]\u001b[49m\u001b[43m)\u001b[49m[\u001b[38;5;241m0\u001b[39m]\n\u001b[0;32m      9\u001b[0m \u001b[38;5;28;01mreturn\u001b[39;00m result\n",
      "File \u001b[1;32mD:\\Anaconda3\\envs\\tensorflow-gpu\\lib\\site-packages\\dask\\base.py:661\u001b[0m, in \u001b[0;36mcompute\u001b[1;34m(traverse, optimize_graph, scheduler, get, *args, **kwargs)\u001b[0m\n\u001b[0;32m    658\u001b[0m     postcomputes\u001b[38;5;241m.\u001b[39mappend(x\u001b[38;5;241m.\u001b[39m__dask_postcompute__())\n\u001b[0;32m    660\u001b[0m \u001b[38;5;28;01mwith\u001b[39;00m shorten_traceback():\n\u001b[1;32m--> 661\u001b[0m     results \u001b[38;5;241m=\u001b[39m schedule(dsk, keys, \u001b[38;5;241m*\u001b[39m\u001b[38;5;241m*\u001b[39mkwargs)\n\u001b[0;32m    663\u001b[0m \u001b[38;5;28;01mreturn\u001b[39;00m repack([f(r, \u001b[38;5;241m*\u001b[39ma) \u001b[38;5;28;01mfor\u001b[39;00m r, (f, a) \u001b[38;5;129;01min\u001b[39;00m \u001b[38;5;28mzip\u001b[39m(results, postcomputes)])\n",
      "File \u001b[1;32mD:\\Anaconda3\\envs\\tensorflow-gpu\\lib\\site-packages\\dask\\multiprocessing.py:112\u001b[0m, in \u001b[0;36mreraise\u001b[1;34m(exc, tb)\u001b[0m\n\u001b[0;32m    110\u001b[0m \u001b[38;5;28;01mdef\u001b[39;00m \u001b[38;5;21mreraise\u001b[39m(exc, tb\u001b[38;5;241m=\u001b[39m\u001b[38;5;28;01mNone\u001b[39;00m):\n\u001b[0;32m    111\u001b[0m     exc \u001b[38;5;241m=\u001b[39m remote_exception(exc, tb)\n\u001b[1;32m--> 112\u001b[0m     \u001b[38;5;28;01mraise\u001b[39;00m exc\n",
      "\u001b[1;31mAttributeError\u001b[0m: 'Series' object has no attribute 'append'\n\nTraceback\n---------\n  File \"D:\\Anaconda3\\envs\\tensorflow-gpu\\lib\\site-packages\\dask\\local.py\", line 225, in execute_task\n    result = _execute_task(task, data)\n  File \"D:\\Anaconda3\\envs\\tensorflow-gpu\\lib\\site-packages\\dask\\core.py\", line 127, in _execute_task\n    return func(*(_execute_task(a, cache) for a in args))\n  File \"F:\\BigData\\my_code\\stats.py\", line 137, in build_composite_signal\n    S = signal_list.formula(data, *cartesian)\n  File \"C:\\Users\\ASUS\\AppData\\Local\\Temp\\ipykernel_15648\\2248539299.py\", line 9, in formula\n  File \"C:\\Users\\ASUS\\AppData\\Local\\Temp\\ipykernel_15648\\2228110220.py\", line 4, in ewma\n  File \"D:\\Anaconda3\\envs\\tensorflow-gpu\\lib\\site-packages\\pandas\\core\\generic.py\", line 6296, in __getattr__\n    return object.__getattribute__(self, name)\n"
     ]
    }
   ],
   "source": [
    "%%time\n",
    "for product in product_list:\n",
    "    file_list = list(map(lambda x: DATA_PATH+product+\"/\"+x, os.listdir(DATA_PATH + product)))\n",
    "    parLapply(CORE_NUM, file_list, build_composite_signal,signal_list=x6, product=product, HEAD_PATH=SAVE_PATH, n=8)"
   ]
  },
  {
   "cell_type": "markdown",
   "id": "4c3d1b2d-4ff0-4f91-8caf-21f4138de247",
   "metadata": {},
   "source": [
    "# price.osci.period"
   ]
  },
  {
   "cell_type": "code",
   "execution_count": 68,
   "id": "a1dcf13b-1525-457c-ace3-69d8acdc6ab5",
   "metadata": {},
   "outputs": [],
   "source": [
    "class foctor_price_osci_period(factor_template):\n",
    "    factor_name = \"price.osci.period\"\n",
    "    \n",
    "    params = OrderedDict([\n",
    "        (\"period\", np.power(2, range(10,13)))\n",
    "    ])\n",
    "    \n",
    "    def formula(self, data, period):\n",
    "        return zero_divide(ewma(data[\"wpr\"], round(period/20), adjust=True)-ewma(data[\"wpr\"], period, adjust=True), data[\"max.\"+str(period)]-data[\"min.\"+str(period)]).values"
   ]
  },
  {
   "cell_type": "code",
   "execution_count": 69,
   "id": "3f65d5e9-f14b-4c7e-a25b-81d206ad9098",
   "metadata": {},
   "outputs": [],
   "source": [
    "x7 = foctor_price_osci_period()"
   ]
  },
  {
   "cell_type": "code",
   "execution_count": null,
   "id": "aed413cd-8519-4f63-859a-dc65a9ff679c",
   "metadata": {},
   "outputs": [],
   "source": [
    "for product in product_list:\n",
    "    create_signal_path(x7, product, SAVE_PATH)"
   ]
  },
  {
   "cell_type": "code",
   "execution_count": null,
   "id": "a647cf63-4c66-4286-bce0-5e8ed7245963",
   "metadata": {},
   "outputs": [],
   "source": [
    "%%time\n",
    "for product in product_list:\n",
    "    file_list = list(map(lambda x: DATA_PATH+product+\"/\"+x, os.listdir(DATA_PATH + product)))\n",
    "    parLapply(CORE_NUM, file_list, build_composite_signal,signal_list=x7, product=product, HEAD_PATH=SAVE_PATH, n=8)"
   ]
  },
  {
   "cell_type": "markdown",
   "id": "cbb76bfd-52c7-4a6f-aaa5-bb56a5096fa5",
   "metadata": {},
   "source": [
    "# kdj.k.period"
   ]
  },
  {
   "cell_type": "code",
   "execution_count": null,
   "id": "78f599e8-d388-4c06-aa2e-a3d9c498b761",
   "metadata": {},
   "outputs": [],
   "source": [
    "class foctor_kdj_k_period(factor_template):\n",
    "    factor_name = \"kdj.k.period\"\n",
    "    \n",
    "    params = OrderedDict([\n",
    "        (\"period\", np.power(2, range(10,13)))\n",
    "    ])\n",
    "    \n",
    "    def formula(self, data, period):\n",
    "        return ewma((zero_divide(data[\"wpr\"]-data[\"min.\"+str(period)], data[\"max.\"+str(period)]-data[\"min.\"+str(period)])-0.5)*2, round(period/5), adjust=True).values"
   ]
  },
  {
   "cell_type": "code",
   "execution_count": null,
   "id": "96b0e5dc-bea0-494f-8808-a53d240ef60d",
   "metadata": {},
   "outputs": [],
   "source": [
    "x8 = foctor_kdj_k_period()"
   ]
  },
  {
   "cell_type": "code",
   "execution_count": null,
   "id": "b3f639ee-761d-4f19-887c-b65f1a31500f",
   "metadata": {},
   "outputs": [],
   "source": [
    "for product in product_list:\n",
    "    create_signal_path(x8, product, SAVE_PATH)"
   ]
  },
  {
   "cell_type": "code",
   "execution_count": null,
   "id": "4d7c58a6-196b-4186-9de2-e13ed02daaac",
   "metadata": {},
   "outputs": [],
   "source": [
    "%%time\n",
    "for product in product_list:\n",
    "    file_list = list(map(lambda x: DATA_PATH+product+\"/\"+x, os.listdir(DATA_PATH + product)))\n",
    "    parLapply(CORE_NUM, file_list, build_composite_signal,signal_list=x8, product=product, HEAD_PATH=SAVE_PATH, n=8)"
   ]
  },
  {
   "cell_type": "markdown",
   "id": "8356e948-86d7-4c3b-a463-d1ebb936a677",
   "metadata": {},
   "source": [
    "# kdj.j.period"
   ]
  },
  {
   "cell_type": "code",
   "execution_count": null,
   "id": "0951f8b4-e488-437c-a3b9-762c5ee933f5",
   "metadata": {},
   "outputs": [],
   "source": [
    "class foctor_kdj_j_period(factor_template):\n",
    "    factor_name = \"kdj.j.period\"\n",
    "    \n",
    "    params = OrderedDict([\n",
    "        (\"period\", np.power(2, range(10,13)))\n",
    "    ])\n",
    "    \n",
    "    def formula(self, data, period):\n",
    "        return ewma(ewma((zero_divide(data[\"wpr\"]-data[\"min.\"+str(period)], data[\"max.\"+str(period)]-data[\"min.\"+str(period)])-0.5)*2, round(period/5),\n",
    "                        adjust=True), round(period/5), adjust=True).values"
   ]
  },
  {
   "cell_type": "code",
   "execution_count": null,
   "id": "59a18447-531a-43cf-bb32-55fdef3d0fce",
   "metadata": {},
   "outputs": [],
   "source": [
    "x9 = foctor_kdj_j_period()"
   ]
  },
  {
   "cell_type": "code",
   "execution_count": null,
   "id": "2d982e53-2106-4352-acb3-00b054b17c5f",
   "metadata": {},
   "outputs": [],
   "source": [
    "for product in product_list:\n",
    "    create_signal_path(x9, product, SAVE_PATH)"
   ]
  },
  {
   "cell_type": "code",
   "execution_count": null,
   "id": "8d86b261-bf07-42e4-855d-660c2616f73d",
   "metadata": {},
   "outputs": [],
   "source": [
    "%%time\n",
    "for product in product_list:\n",
    "    file_list = list(map(lambda x: DATA_PATH+product+\"/\"+x, os.listdir(DATA_PATH + product)))\n",
    "    parLapply(CORE_NUM, file_list, build_composite_signal,signal_list=x9, product=product, HEAD_PATH=SAVE_PATH, n=8)"
   ]
  },
  {
   "cell_type": "markdown",
   "id": "845d655c-fa70-4d56-8007-deda17e52015",
   "metadata": {},
   "source": [
    "# std.period"
   ]
  },
  {
   "cell_type": "code",
   "execution_count": null,
   "id": "75e9f8ad-f044-49df-a2ec-90553a78c69d",
   "metadata": {},
   "outputs": [],
   "source": [
    "# 该函数用于std.period因子的计算 该函数可以快速计算方差\n",
    "def fast_roll_var(x, period):\n",
    "      x_ma = cum(x,period)/period\n",
    "      x2 = x*x\n",
    "      x2_ma = cum(x2,period)/period\n",
    "      var_x = x2_ma-x_ma*x_ma\n",
    "      return(var_x)"
   ]
  },
  {
   "cell_type": "code",
   "execution_count": null,
   "id": "3d53ce3e-e47f-4a0a-8e6f-a08b830a9bcd",
   "metadata": {},
   "outputs": [],
   "source": [
    "class foctor_std_period(factor_template): # 计算波动性因子 波动性因子区别于前面说的带有方向的因子\n",
    "    factor_name = \"std.period\"\n",
    "    \n",
    "    params = OrderedDict([\n",
    "        (\"period\", np.power(2, range(10,13)))\n",
    "    ])\n",
    "    \n",
    "    def formula(self, data, period):\n",
    "        return np.sqrt(fast_roll_var(data[\"wpr\"], period)) # 该因子的计算公式"
   ]
  },
  {
   "cell_type": "code",
   "execution_count": null,
   "id": "7f3d9048-9b79-4c29-8e9c-d4a91cfae8af",
   "metadata": {},
   "outputs": [],
   "source": [
    "x10 = foctor_std_period()"
   ]
  },
  {
   "cell_type": "code",
   "execution_count": null,
   "id": "972221ba-093e-4343-92f4-cd47c4b9cdc5",
   "metadata": {},
   "outputs": [],
   "source": [
    "for product in product_list:\n",
    "    create_signal_path(x10, product, SAVE_PATH)"
   ]
  },
  {
   "cell_type": "code",
   "execution_count": null,
   "id": "e2304a9e-2983-43a9-9c63-55b727f6a30e",
   "metadata": {},
   "outputs": [],
   "source": [
    "%%time\n",
    "for product in product_list:\n",
    "    file_list = list(map(lambda x: DATA_PATH+product+\"/\"+x, os.listdir(DATA_PATH + product)))\n",
    "    parLapply(CORE_NUM, file_list, build_composite_signal,signal_list=x10, product=product, HEAD_PATH=SAVE_PATH,n=8)"
   ]
  },
  {
   "cell_type": "markdown",
   "id": "f1de563b-49f5-4acc-b641-c021be2ce26d",
   "metadata": {},
   "source": [
    "# range.period"
   ]
  },
  {
   "cell_type": "code",
   "execution_count": null,
   "id": "e2a0c7f0-a43a-45a9-b7f2-6e251a0be23c",
   "metadata": {},
   "outputs": [],
   "source": [
    "class foctor_range_period(factor_template): # 波动范围因子\n",
    "    factor_name = \"range.period\"\n",
    "    \n",
    "    params = OrderedDict([\n",
    "        (\"period\", np.power(2, range(10,13)))\n",
    "    ])\n",
    "    \n",
    "    def formula(self, data, period):\n",
    "        return data[\"max.\"+str(period)]-data[\"min.\"+str(period)]"
   ]
  },
  {
   "cell_type": "code",
   "execution_count": null,
   "id": "fdc2c8ee-d66c-4bc8-bef2-998116e09637",
   "metadata": {},
   "outputs": [],
   "source": [
    "x11 = foctor_range_period()"
   ]
  },
  {
   "cell_type": "code",
   "execution_count": null,
   "id": "77ed95a6-a7bd-4484-bcd9-fc337dd0cdfd",
   "metadata": {},
   "outputs": [],
   "source": [
    "for product in product_list:\n",
    "    create_signal_path(x11, product, SAVE_PATH)"
   ]
  },
  {
   "cell_type": "code",
   "execution_count": null,
   "id": "75e7e20f-6943-4510-b9fd-7eb4c972444b",
   "metadata": {},
   "outputs": [],
   "source": [
    "%%time\n",
    "for product in product_list:\n",
    "    file_list = list(map(lambda x: DATA_PATH+product+\"/\"+x, os.listdir(DATA_PATH + product)))\n",
    "    parLapply(CORE_NUM, file_list, build_composite_signal,signal_list=x11, product=product, HEAD_PATH=SAVE_PATH,n=8)"
   ]
  },
  {
   "cell_type": "markdown",
   "id": "b4df9f7d-2504-4e22-b8b0-73986dc63102",
   "metadata": {},
   "source": [
    "# trend.index.period"
   ]
  },
  {
   "cell_type": "code",
   "execution_count": null,
   "id": "bef018a5-465f-40fc-bac4-1829b89b7675",
   "metadata": {},
   "outputs": [],
   "source": [
    "class foctor_trend_index_period(factor_template): # 趋势度因子 衡量波动性\n",
    "    factor_name = \"trend.index.period\"\n",
    "    \n",
    "    params = OrderedDict([\n",
    "        (\"period\", np.power(2, range(10,13)))\n",
    "    ])\n",
    "    \n",
    "    def formula(self, data, period):\n",
    "        aa = zero_divide(abs(data[\"wpr\"]-data[\"wpr\"].shift(period)), data[\"max.\"+str(period)]-data[\"min.\"+str(period)])\n",
    "        aa[0:period]=0\n",
    "        return aa"
   ]
  },
  {
   "cell_type": "code",
   "execution_count": null,
   "id": "e49367e2-8747-4c44-ab9f-091d36528ca7",
   "metadata": {},
   "outputs": [],
   "source": [
    "x12 = foctor_trend_index_period()"
   ]
  },
  {
   "cell_type": "code",
   "execution_count": null,
   "id": "0a5d9123-8f29-48fd-a8f3-6c78576ec214",
   "metadata": {},
   "outputs": [],
   "source": [
    "for product in product_list:\n",
    "    create_signal_path(x12, product, SAVE_PATH)"
   ]
  },
  {
   "cell_type": "code",
   "execution_count": null,
   "id": "df4c2097-02bd-475d-bb9a-b91f8be3478d",
   "metadata": {},
   "outputs": [],
   "source": [
    "%%time\n",
    "for product in product_list:\n",
    "    file_list = list(map(lambda x: DATA_PATH+product+\"/\"+x, os.listdir(DATA_PATH + product)))\n",
    "    parLapply(CORE_NUM, file_list, build_composite_signal,signal_list=x12, product=product, HEAD_PATH=SAVE_PATH,n=8)"
   ]
  },
  {
   "cell_type": "markdown",
   "id": "9965b2d1-9876-488f-a330-ca949ab8b896",
   "metadata": {},
   "source": [
    "# 批量生成组合因子"
   ]
  },
  {
   "cell_type": "markdown",
   "id": "e8b3a917-24d9-4137-8bb4-aadef0103dfd",
   "metadata": {},
   "source": [
    "- 预测因子：带方向的因子\n",
    "- 波动率因子：不带方向的因子\n",
    "- 方向因子*不带方向的因子 => 新的带方向的因子\n",
    "- 两个带方向的因子相乘没有意义"
   ]
  },
  {
   "cell_type": "code",
   "execution_count": null,
   "id": "16351fbf-2251-4897-bc68-35d376618b5a",
   "metadata": {},
   "outputs": [],
   "source": [
    "# 创建组合因子\n",
    "def construct_composite_signal(dire_signal, range_signal, period_list, product_list, HEAD_PATH):\n",
    "    from collections import OrderedDict\n",
    "    class foctor_xx_period(factor_template):\n",
    "        factor_name = dire_signal+\".\"+range_signal+\".period\" # 新因子名称\n",
    "        params = OrderedDict([\n",
    "            (\"period\", period_list)\n",
    "        ]) \n",
    "        def formula(self, data, period):\n",
    "            return (data[dire_signal+\".\"+str(period)]*data[range_signal+\".\"+str(period)]).values # 因子计算\n",
    "    xx = foctor_xx_period()\n",
    "    for product in product_list:\n",
    "        create_signal_path(xx, product, HEAD_PATH)\n",
    "        file_list = list(map(lambda x: DATA_PATH+product+\"/\"+x, os.listdir(DATA_PATH + product)))\n",
    "        parLapply(CORE_NUM, file_list, build_composite_signal,signal_list=xx, product=product, HEAD_PATH=HEAD_PATH, n=8)"
   ]
  },
  {
   "cell_type": "code",
   "execution_count": null,
   "id": "bd5e4b85-db35-4881-a867-8fa51f9b7334",
   "metadata": {},
   "outputs": [],
   "source": [
    "dire_signal_list = [\"nr\", \"dbook\", \"range.pos\", \"price.osci\", \"ma.dif.10\", \"kdj.k\", \"kdj.j\"] # 方向性因子\n",
    "range_signal_list = [\"range\", \"std\", \"trend.index\"] # 波动性因子\n",
    "period_list = np.power(2, range(10, 13)) # 周期列表"
   ]
  },
  {
   "cell_type": "code",
   "execution_count": null,
   "id": "8b0e0de1-e022-4fcb-aa52-753da6d5a591",
   "metadata": {},
   "outputs": [],
   "source": [
    "%%time\n",
    "for range_signal in range_signal_list:\n",
    "    for dire_signal in dire_signal_list:\n",
    "        construct_composite_signal(dire_signal, range_signal, period_list, product_list, SAVE_PATH)"
   ]
  },
  {
   "cell_type": "code",
   "execution_count": null,
   "id": "162f7d2c-fd22-4307-babc-4bec08a074c7",
   "metadata": {},
   "outputs": [],
   "source": []
  }
 ],
 "metadata": {
  "kernelspec": {
   "display_name": "Python 3 (ipykernel)",
   "language": "python",
   "name": "python3"
  },
  "language_info": {
   "codemirror_mode": {
    "name": "ipython",
    "version": 3
   },
   "file_extension": ".py",
   "mimetype": "text/x-python",
   "name": "python",
   "nbconvert_exporter": "python",
   "pygments_lexer": "ipython3",
   "version": "3.9.0"
  }
 },
 "nbformat": 4,
 "nbformat_minor": 5
}
