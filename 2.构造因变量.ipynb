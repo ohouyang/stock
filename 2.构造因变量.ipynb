{
 "cells": [
  {
   "cell_type": "code",
   "execution_count": 1,
   "id": "86d9d245-9dac-4f28-b381-e425b8514f8f",
   "metadata": {},
   "outputs": [
    {
     "data": {
      "text/plain": [
       "<module 'stats' from 'F:\\\\bigdata\\\\my_code\\\\stats.py'>"
      ]
     },
     "execution_count": 1,
     "metadata": {},
     "output_type": "execute_result"
    }
   ],
   "source": [
    "import pandas as pd\n",
    "import numpy as np\n",
    "import _pickle as cPickle\n",
    "import gzip\n",
    "from collections import OrderedDict\n",
    "from stock_helper import *\n",
    "from stats import *\n",
    "from imp import reload\n",
    "import stock_helper\n",
    "import stats\n",
    "reload(stock_helper)\n",
    "reload(stats) # 重新载入模块"
   ]
  },
  {
   "cell_type": "code",
   "execution_count": 2,
   "id": "4001a842-ecad-40a0-97ac-3163c2de7195",
   "metadata": {},
   "outputs": [],
   "source": [
    "# 警告过滤\n",
    "import warnings\n",
    "warnings.filterwarnings('ignore')"
   ]
  },
  {
   "cell_type": "code",
   "execution_count": 3,
   "id": "26cbf567-4c53-4d40-9b93-19636b3fe692",
   "metadata": {},
   "outputs": [
    {
     "data": {
      "text/plain": [
       "8"
      ]
     },
     "execution_count": 3,
     "metadata": {},
     "output_type": "execute_result"
    }
   ],
   "source": [
    "import os\n",
    "CORE_NUM = int(os.environ['NUMBER_OF_PROCESSORS'])\n",
    "CORE_NUM"
   ]
  },
  {
   "cell_type": "code",
   "execution_count": 4,
   "id": "ccec5250-12cb-46d8-a1f8-5d0aeb4f8296",
   "metadata": {},
   "outputs": [],
   "source": [
    "# 函数主要用于实现并行计算，加速python算法\n",
    "import functools\n",
    "import dask\n",
    "from dask import compute, delayed\n",
    "def parLapply(CORE_NUM, iterable, func, *args, **kwargs): # 函数名（CPU核心数目，文件列表，函数，参数1，参数2...，对象1=参数a，对象2=参数b...）\n",
    "    with dask.config.set(scheduler='processes', num_workers=CORE_NUM):\n",
    "        f_par = functools.partial(func, *args, **kwargs)\n",
    "        result = compute([delayed(f_par)(item) for item in iterable])[0]\n",
    "    return result"
   ]
  },
  {
   "cell_type": "code",
   "execution_count": 5,
   "id": "fea53615-9515-418d-a4a9-b2f8f2eac1c6",
   "metadata": {},
   "outputs": [],
   "source": [
    "# 加载数据函数load\n",
    "def load(path):\n",
    "    with gzip.open(path, 'rb', compresslevel=1) as file_object:\n",
    "        raw_data = file_object.read()\n",
    "    return cPickle.loads(raw_data)"
   ]
  },
  {
   "cell_type": "code",
   "execution_count": 6,
   "id": "18e38f50-f005-4474-8208-f573879fea9f",
   "metadata": {},
   "outputs": [],
   "source": [
    "# 保存数据函数save\n",
    "def save(data, path):\n",
    "    serialized = cPickle.dumps(data) # 将data对象序列化\n",
    "    with gzip.open(path, 'wb', compresslevel=1) as file_object: # 以写二进制的模式打开文件\n",
    "        file_object.write(serialized) # 将序列化的对象写入文件"
   ]
  },
  {
   "cell_type": "code",
   "execution_count": 7,
   "id": "acbca1d5-c64f-4851-96a7-e3719af7b7b2",
   "metadata": {},
   "outputs": [],
   "source": [
    "HEAD_PATH = 'F:/BigData/data'\n",
    "DATA_PATH = HEAD_PATH + '/stock pkl/'\n",
    "SAVE_PATH = 'F:/BigData/data'\n",
    "product_list = [\"600276\", \"600535\"] # 防止运行时间过长，只挑选两个股票品种"
   ]
  },
  {
   "cell_type": "code",
   "execution_count": 8,
   "id": "b5f71e57-0154-4d6b-9134-582039e32694",
   "metadata": {},
   "outputs": [],
   "source": [
    "# 值得注意的是fcum函数中有shift(-n)[:-n]，也就是说因变量是未来的收益率\n",
    "def fcum(x, n, fill=0):\n",
    "    return pd.Series(data=cum(pd.concat((x, pd.Series(np.repeat(fill, n))), ignore_index=True), n).shift(-n)[:-n].values, index=x.index)"
   ]
  },
  {
   "cell_type": "markdown",
   "id": "1ef8eb04-32a5-4972-99a3-e30fbd0d27cf",
   "metadata": {},
   "source": [
    "# ret.period"
   ]
  },
  {
   "cell_type": "code",
   "execution_count": 9,
   "id": "70fa2ed2-ba42-49c3-8a6b-0533e0763424",
   "metadata": {},
   "outputs": [],
   "source": [
    "class foctor_ret_period(factor_template):\n",
    "    factor_name = \"ret.period\"\n",
    "    \n",
    "    params = OrderedDict([\n",
    "        (\"period\", np.power(2, range(10,13)))\n",
    "    ])\n",
    "    \n",
    "    def formula(self, data, period):\n",
    "        return fcum(data[\"ret\"],period).values"
   ]
  },
  {
   "cell_type": "code",
   "execution_count": 10,
   "id": "2212c996-d556-447a-94a5-4dca0ec00226",
   "metadata": {},
   "outputs": [],
   "source": [
    "y = foctor_ret_period()"
   ]
  },
  {
   "cell_type": "code",
   "execution_count": 11,
   "id": "a0f10d0c-b102-4b77-bf5e-26ce4499819c",
   "metadata": {},
   "outputs": [
    {
     "name": "stdout",
     "output_type": "stream",
     "text": [
      "F:/BigData/data/tmp pkl/600276/ret.1024\n",
      "F:/BigData/data/tmp pkl/600276/ret.2048\n",
      "F:/BigData/data/tmp pkl/600276/ret.4096\n",
      "F:/BigData/data/tmp pkl/600535/ret.1024\n",
      "F:/BigData/data/tmp pkl/600535/ret.2048\n",
      "F:/BigData/data/tmp pkl/600535/ret.4096\n"
     ]
    }
   ],
   "source": [
    "for product in product_list:\n",
    "    create_signal_path(y, product,SAVE_PATH)"
   ]
  },
  {
   "cell_type": "code",
   "execution_count": 12,
   "id": "20481a5d-6367-4d34-85b9-3162babd8c09",
   "metadata": {},
   "outputs": [
    {
     "name": "stdout",
     "output_type": "stream",
     "text": [
      "Wall time: 22.5 s\n"
     ]
    }
   ],
   "source": [
    "%%time\n",
    "for product in product_list:\n",
    "    file_list = list(map(lambda x: DATA_PATH+product+\"/\"+x, os.listdir(DATA_PATH + product)))\n",
    "    parLapply(CORE_NUM, file_list, build_composite_signal,signal_list=y, product=product, HEAD_PATH=SAVE_PATH,n=8)"
   ]
  },
  {
   "cell_type": "markdown",
   "id": "2559d36a-1dc5-4504-8884-3c145ff96513",
   "metadata": {},
   "source": [
    "# ret.period.004  \n",
    "以下因子运用vanish_thre过滤极端值"
   ]
  },
  {
   "cell_type": "markdown",
   "id": "834744ca-0b7f-4a27-b612-b7185215e5e6",
   "metadata": {},
   "source": [
    "# 阈值 0.1 0.04 "
   ]
  },
  {
   "cell_type": "code",
   "execution_count": 13,
   "id": "df916a4e-911c-4f5b-bd34-be485f84a64b",
   "metadata": {},
   "outputs": [],
   "source": [
    "# 作者过滤极端值的方式本人并不苟同\n",
    "# def vanish_thre(x, thre):\n",
    "#     x[np.abs(x)>thre] = 0\n",
    "#     return x\n",
    "# 所以我改一下\n",
    "def vanish_thre(x, thre):\n",
    "    x[x>thre] = thre\n",
    "    x[x<-thre] = -thre\n",
    "    return x\n",
    "# 改完后效果依然不好\n",
    "\n",
    "# >0.04 =0.04\n",
    "# <-0.04 =-0.04"
   ]
  },
  {
   "cell_type": "code",
   "execution_count": 14,
   "id": "7d0a0566-d725-4fb9-8542-b09f3566d5b2",
   "metadata": {},
   "outputs": [],
   "source": [
    "class foctor_ret_period_004(factor_template):\n",
    "    factor_name = \"ret.period.004\"\n",
    "    \n",
    "    params = OrderedDict([\n",
    "        (\"period\", np.power(2, range(10,13)))\n",
    "    ])\n",
    "    \n",
    "    def formula(self, data, period):\n",
    "        return vanish_thre(fcum(data[\"ret\"],period), 0.041).values"
   ]
  },
  {
   "cell_type": "code",
   "execution_count": 15,
   "id": "efb52604-30f2-4a80-8963-4cb292016697",
   "metadata": {},
   "outputs": [],
   "source": [
    "y4 = foctor_ret_period_004()"
   ]
  },
  {
   "cell_type": "code",
   "execution_count": 16,
   "id": "15b24be4-bd97-4f81-aaa2-4d12ee25353f",
   "metadata": {},
   "outputs": [
    {
     "name": "stdout",
     "output_type": "stream",
     "text": [
      "F:/BigData/data/tmp pkl/600276/ret.1024.004\n",
      "F:/BigData/data/tmp pkl/600276/ret.2048.004\n",
      "F:/BigData/data/tmp pkl/600276/ret.4096.004\n",
      "F:/BigData/data/tmp pkl/600535/ret.1024.004\n",
      "F:/BigData/data/tmp pkl/600535/ret.2048.004\n",
      "F:/BigData/data/tmp pkl/600535/ret.4096.004\n"
     ]
    }
   ],
   "source": [
    "for product in product_list:\n",
    "    create_signal_path(y4, product, SAVE_PATH)"
   ]
  },
  {
   "cell_type": "code",
   "execution_count": 17,
   "id": "050ef0e8-284f-4acf-8dde-55936beea83a",
   "metadata": {},
   "outputs": [
    {
     "name": "stdout",
     "output_type": "stream",
     "text": [
      "Wall time: 22.1 s\n"
     ]
    }
   ],
   "source": [
    "%%time\n",
    "for product in product_list:\n",
    "    file_list = list(map(lambda x: DATA_PATH+product+\"/\"+x, os.listdir(DATA_PATH + product)))\n",
    "    parLapply(CORE_NUM, file_list, build_composite_signal,signal_list=y4, product=product, HEAD_PATH=SAVE_PATH, n=8)"
   ]
  },
  {
   "cell_type": "markdown",
   "id": "ed3a8ed6-9b34-4db0-aee3-d6b28b301980",
   "metadata": {},
   "source": [
    "# ret.period.002"
   ]
  },
  {
   "cell_type": "code",
   "execution_count": 18,
   "id": "a62c8c7d-cc08-48c3-b2a6-929b7ad56ece",
   "metadata": {},
   "outputs": [],
   "source": [
    "class foctor_ret_period_002(factor_template):\n",
    "    factor_name = \"ret.period.002\"\n",
    "    \n",
    "    params = OrderedDict([\n",
    "        (\"period\", np.power(2, range(10,13)))\n",
    "    ])\n",
    "    \n",
    "    def formula(self, data, period):\n",
    "        return vanish_thre(fcum(data[\"ret\"],period), 0.021).values"
   ]
  },
  {
   "cell_type": "code",
   "execution_count": 19,
   "id": "9cec01a8-7971-466d-ae03-dfe3d07e9a60",
   "metadata": {},
   "outputs": [],
   "source": [
    "y2 = foctor_ret_period_002()"
   ]
  },
  {
   "cell_type": "code",
   "execution_count": 20,
   "id": "f8fb10c0-26eb-4eeb-a89b-22d6e6add5ff",
   "metadata": {},
   "outputs": [
    {
     "name": "stdout",
     "output_type": "stream",
     "text": [
      "F:/BigData/data/tmp pkl/600276/ret.1024.002\n",
      "F:/BigData/data/tmp pkl/600276/ret.2048.002\n",
      "F:/BigData/data/tmp pkl/600276/ret.4096.002\n",
      "F:/BigData/data/tmp pkl/600535/ret.1024.002\n",
      "F:/BigData/data/tmp pkl/600535/ret.2048.002\n",
      "F:/BigData/data/tmp pkl/600535/ret.4096.002\n"
     ]
    }
   ],
   "source": [
    "for product in product_list:\n",
    "    create_signal_path(y2, product, SAVE_PATH)"
   ]
  },
  {
   "cell_type": "code",
   "execution_count": 21,
   "id": "645e2488-15f7-4cd5-9e4d-9ed73f4293b5",
   "metadata": {},
   "outputs": [
    {
     "name": "stdout",
     "output_type": "stream",
     "text": [
      "Wall time: 21.2 s\n"
     ]
    }
   ],
   "source": [
    "%%time\n",
    "for product in product_list:\n",
    "    file_list = list(map(lambda x: DATA_PATH+product+\"/\"+x, os.listdir(DATA_PATH + product)))\n",
    "    parLapply(CORE_NUM, file_list, build_composite_signal,signal_list=y2, product=product, HEAD_PATH=SAVE_PATH,n=8)"
   ]
  },
  {
   "cell_type": "markdown",
   "id": "fba93584-2c96-49e0-9b9c-2d60eb24f068",
   "metadata": {},
   "source": [
    "# ret.period.001"
   ]
  },
  {
   "cell_type": "code",
   "execution_count": 22,
   "id": "ba5ac4ab-ea65-47ec-8312-099974f66104",
   "metadata": {},
   "outputs": [],
   "source": [
    "class foctor_ret_period_001(factor_template):\n",
    "    factor_name = \"ret.period.001\"\n",
    "    \n",
    "    params = OrderedDict([\n",
    "        (\"period\", np.power(2, range(10,13)))\n",
    "    ])\n",
    "    \n",
    "    def formula(self, data, period):\n",
    "        return vanish_thre(fcum(data[\"ret\"],period), 0.011).values"
   ]
  },
  {
   "cell_type": "code",
   "execution_count": 23,
   "id": "dabe0b46-f118-44e1-ac42-34a0c8b5b212",
   "metadata": {},
   "outputs": [],
   "source": [
    "y1 = foctor_ret_period_001()"
   ]
  },
  {
   "cell_type": "code",
   "execution_count": 24,
   "id": "d346a3b0-8ee8-404f-a47b-5d80626ab17a",
   "metadata": {},
   "outputs": [
    {
     "name": "stdout",
     "output_type": "stream",
     "text": [
      "F:/BigData/data/tmp pkl/600276/ret.1024.001\n",
      "F:/BigData/data/tmp pkl/600276/ret.2048.001\n",
      "F:/BigData/data/tmp pkl/600276/ret.4096.001\n",
      "F:/BigData/data/tmp pkl/600535/ret.1024.001\n",
      "F:/BigData/data/tmp pkl/600535/ret.2048.001\n",
      "F:/BigData/data/tmp pkl/600535/ret.4096.001\n"
     ]
    }
   ],
   "source": [
    "for product in product_list:\n",
    "    create_signal_path(y1, product, SAVE_PATH)"
   ]
  },
  {
   "cell_type": "code",
   "execution_count": 25,
   "id": "212c68ca-39f0-439a-af87-480bd5983ada",
   "metadata": {},
   "outputs": [
    {
     "name": "stdout",
     "output_type": "stream",
     "text": [
      "Wall time: 20.4 s\n"
     ]
    }
   ],
   "source": [
    "%%time\n",
    "for product in product_list:\n",
    "    file_list = list(map(lambda x: DATA_PATH+product+\"/\"+x, os.listdir(DATA_PATH + product)))\n",
    "    parLapply(CORE_NUM, file_list, build_composite_signal,signal_list=y1, product=product, HEAD_PATH=SAVE_PATH, n=8)"
   ]
  },
  {
   "cell_type": "code",
   "execution_count": 26,
   "id": "6ac4258c-dd5e-4757-b068-3d93959a9f79",
   "metadata": {},
   "outputs": [
    {
     "name": "stdout",
     "output_type": "stream",
     "text": [
      "[-0.011      -0.011      -0.011      ...  0.00044024  0.\n",
      "  0.        ]\n",
      "646835\n"
     ]
    }
   ],
   "source": [
    "data1 = load(\"F:/BigData/data/tmp pkl/600276/ret.4096.001/2016.pkl\")\n",
    "print(data1)\n",
    "print(len(data1))"
   ]
  },
  {
   "cell_type": "code",
   "execution_count": 27,
   "id": "91b06f30-dac0-43f3-b69f-b62232830443",
   "metadata": {},
   "outputs": [],
   "source": [
    "import matplotlib.pyplot as plt"
   ]
  },
  {
   "cell_type": "code",
   "execution_count": 28,
   "id": "c1be03a8-59b2-4428-8b70-6cdd3dbc921a",
   "metadata": {},
   "outputs": [
    {
     "data": {
      "image/png": "[encoded data removed]",
      "text/plain": [
       "<Figure size 1152x720 with 1 Axes>"
      ]
     },
     "metadata": {
      "needs_background": "light"
     },
     "output_type": "display_data"
    }
   ],
   "source": [
    "plt.figure(1, (16, 10))\n",
    "plt.title(\"ret.4096.001\")\n",
    "plt.plot(data1)\n",
    "plt.ylim(-0.02, 0.02)\n",
    "plt.show()"
   ]
  },
  {
   "cell_type": "code",
   "execution_count": 29,
   "id": "cf47c53c-c9c7-483e-98b7-c5d32149671f",
   "metadata": {},
   "outputs": [
    {
     "name": "stdout",
     "output_type": "stream",
     "text": [
      "[-0.021      -0.021      -0.021      ...  0.00044024  0.\n",
      "  0.        ]\n",
      "646835\n"
     ]
    }
   ],
   "source": [
    "data2 = load(\"F:/BigData/data/tmp pkl/600276/ret.4096.002/2016.pkl\")\n",
    "print(data2)\n",
    "print(len(data2))"
   ]
  },
  {
   "cell_type": "code",
   "execution_count": 30,
   "id": "2959643f-1d30-4616-bbdb-98f9a26bf49c",
   "metadata": {},
   "outputs": [
    {
     "data": {
      "image/png": "[encoded data removed]",
      "text/plain": [
       "<Figure size 1152x720 with 1 Axes>"
      ]
     },
     "metadata": {
      "needs_background": "light"
     },
     "output_type": "display_data"
    }
   ],
   "source": [
    "plt.figure(1, (16, 10))\n",
    "plt.title(\"ret.4096.002\")\n",
    "plt.plot(data2[10000:15000])\n",
    "plt.ylim(-0.04, 0.04)\n",
    "plt.show()"
   ]
  },
  {
   "cell_type": "code",
   "execution_count": 31,
   "id": "aa8f2670-c852-4489-8688-640fc543d747",
   "metadata": {},
   "outputs": [
    {
     "name": "stdout",
     "output_type": "stream",
     "text": [
      "[ 0.00000000e+00  1.00000000e+00 -9.58671107e-01 ...  2.81964235e-05\n",
      "  4.97186210e-04  4.97186210e-04]\n",
      "646835\n"
     ]
    }
   ],
   "source": [
    "data3 = load(\"F:/BigData/data/tmp pkl/600276/nr.4096/2016.pkl\")\n",
    "print(data3)\n",
    "print(len(data3))"
   ]
  }
 ],
 "metadata": {
  "kernelspec": {
   "display_name": "Python 3",
   "language": "python",
   "name": "python3"
  },
  "language_info": {
   "codemirror_mode": {
    "name": "ipython",
    "version": 3
   },
   "file_extension": ".py",
   "mimetype": "text/x-python",
   "name": "python",
   "nbconvert_exporter": "python",
   "pygments_lexer": "ipython3",
   "version": "3.8.8"
  }
 },
 "nbformat": 4,
 "nbformat_minor": 5
}
